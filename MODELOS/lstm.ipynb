{
 "cells": [
  {
   "cell_type": "code",
   "execution_count": 1,
   "metadata": {},
   "outputs": [],
   "source": [
    "import pandas as pd\n",
    "import numpy as np\n",
    "import librosa\n",
    "import glob\n",
    "\n",
    "from sklearn.model_selection import train_test_split\n",
    "from tensorflow.keras.models import Sequential\n",
    "from tensorflow.keras.layers import Conv2D, Flatten, Dense, MaxPool2D, Dropout, LSTM\n",
    "from tensorflow.keras.utils import to_categorical\n",
    "\n",
    "from matplotlib import pyplot"
   ]
  },
  {
   "cell_type": "code",
   "execution_count": 2,
   "metadata": {},
   "outputs": [],
   "source": [
    "# se usa del GPU\n",
    "#device = torch.device(\"cuda\" if torch.cuda.is_available() else \"cpu\")\n",
    "#print(device)"
   ]
  },
  {
   "cell_type": "code",
   "execution_count": 3,
   "metadata": {},
   "outputs": [],
   "source": [
    "def grab_sound_features(filename):\n",
    "    sample_rate = 12000\n",
    "    duration = 3\n",
    "\n",
    "    # Cargamos el audio\n",
    "    X, sample_rate = librosa.load(filename, sr=sample_rate, res_type='kaiser_fast')\n",
    "    n_sample = X.shape[0]\n",
    "    n_sample_fit = int(duration*sample_rate)\n",
    "\n",
    "    # Si el audio es muy grande, limitamos la duracion del audio.\n",
    "    # Si es audio es muy pequeño se completa con ceros.\n",
    "    # En ambos casos ponemos un silencio de 0.5 segundos\n",
    "    if n_sample < n_sample_fit:\n",
    "        X = np.hstack((0.5*sample_rate, X, np.zeros(n_sample_fit - n_sample), 0.5*sample_rate))\n",
    "    elif n_sample > n_sample_fit:\n",
    "        X = np.hstack((0.5*sample_rate, X[int((n_sample-n_sample_fit)/2):int((n_sample+n_sample_fit)/2)], 0.5*sample_rate))\n",
    "    \n",
    "    return librosa.feature.melspectrogram(y=X, sr=sample_rate).transpose()\n",
    "\n",
    "def parser():\n",
    "    feature = []\n",
    "    label = []\n",
    "    # Funcion para cargar archivos y extraer caracteristicas\n",
    "    for filename in glob.glob(\"data/scream/*.wav\"):\n",
    "        mels = grab_sound_features(filename)\n",
    "        feature.append(mels)\n",
    "        label.append(1)\n",
    "    for filename in glob.glob(\"data/no-scream/*.wav\"):\n",
    "        mels = grab_sound_features(filename)\n",
    "        feature.append(mels)\n",
    "        label.append(0)\n",
    "    return [feature, label]"
   ]
  },
  {
   "cell_type": "code",
   "execution_count": 4,
   "metadata": {
    "scrolled": false
   },
   "outputs": [],
   "source": [
    "data = np.array(parser())\n",
    "n = data.shape[1]"
   ]
  },
  {
   "cell_type": "code",
   "execution_count": 5,
   "metadata": {},
   "outputs": [
    {
     "data": {
      "text/plain": [
       "(71, 128)"
      ]
     },
     "execution_count": 5,
     "metadata": {},
     "output_type": "execute_result"
    }
   ],
   "source": [
    "data[0,0].shape"
   ]
  },
  {
   "cell_type": "code",
   "execution_count": 6,
   "metadata": {},
   "outputs": [
    {
     "name": "stdout",
     "output_type": "stream",
     "text": [
      "(18732,) (18732,)\n"
     ]
    }
   ],
   "source": [
    "X_ = data[0, :]\n",
    "Y = data[1, :]\n",
    "print(X_.shape, Y.shape)\n",
    "X = np.empty([n, data[0,0].shape[0], data[0,0].shape[1]])"
   ]
  },
  {
   "cell_type": "code",
   "execution_count": 7,
   "metadata": {},
   "outputs": [],
   "source": [
    "for i in range(n):\n",
    "    X[i] = (X_[i])"
   ]
  },
  {
   "cell_type": "code",
   "execution_count": 8,
   "metadata": {},
   "outputs": [],
   "source": [
    "# Convertimos los labels a 2-D\n",
    "Y = np.tile(Y,(data[0,0].shape[0],1)).transpose()"
   ]
  },
  {
   "cell_type": "code",
   "execution_count": 9,
   "metadata": {
    "scrolled": true
   },
   "outputs": [],
   "source": [
    "Y = to_categorical(Y)"
   ]
  },
  {
   "cell_type": "code",
   "execution_count": 10,
   "metadata": {
    "scrolled": true
   },
   "outputs": [
    {
     "name": "stdout",
     "output_type": "stream",
     "text": [
      "(18732, 71, 128)\n",
      "(18732, 71, 2)\n"
     ]
    }
   ],
   "source": [
    "'''Final Data'''\n",
    "print(X.shape)\n",
    "print(Y.shape)"
   ]
  },
  {
   "cell_type": "code",
   "execution_count": 11,
   "metadata": {},
   "outputs": [],
   "source": [
    "# se conforman los conjuntos de entrenamiento y prueba\n",
    "X_train, X_test, Y_train, Y_test = train_test_split(X, Y, random_state = 1)"
   ]
  },
  {
   "cell_type": "code",
   "execution_count": 12,
   "metadata": {},
   "outputs": [],
   "source": [
    "input_dim = (X_train.shape[1], X_train.shape[2])"
   ]
  },
  {
   "cell_type": "code",
   "execution_count": 13,
   "metadata": {},
   "outputs": [
    {
     "data": {
      "text/plain": [
       "(71, 128)"
      ]
     },
     "execution_count": 13,
     "metadata": {},
     "output_type": "execute_result"
    }
   ],
   "source": [
    "input_dim"
   ]
  },
  {
   "cell_type": "code",
   "execution_count": 14,
   "metadata": {},
   "outputs": [
    {
     "name": "stdout",
     "output_type": "stream",
     "text": [
      "Model: \"sequential\"\n",
      "_________________________________________________________________\n",
      "Layer (type)                 Output Shape              Param #   \n",
      "=================================================================\n",
      "lstm (LSTM)                  (None, 71, 256)           394240    \n",
      "_________________________________________________________________\n",
      "lstm_1 (LSTM)                (None, 71, 128)           197120    \n",
      "_________________________________________________________________\n",
      "lstm_2 (LSTM)                (None, 71, 64)            49408     \n",
      "_________________________________________________________________\n",
      "lstm_3 (LSTM)                (None, 71, 32)            12416     \n",
      "_________________________________________________________________\n",
      "dense (Dense)                (None, 71, 2)             66        \n",
      "=================================================================\n",
      "Total params: 653,250\n",
      "Trainable params: 653,250\n",
      "Non-trainable params: 0\n",
      "_________________________________________________________________\n"
     ]
    }
   ],
   "source": [
    "# Crea el modelo en tensorflow keras\n",
    "model = Sequential()\n",
    "\n",
    "# Definimos un modelo LSTM many-to-many\n",
    "model.add(LSTM(units=256, dropout=0.05, recurrent_dropout=0.35, return_sequences=True, input_shape=input_dim))\n",
    "model.add(LSTM(units=128, dropout=0.05, recurrent_dropout=0.35, return_sequences=True))\n",
    "model.add(LSTM(units=64,  dropout=0.05, recurrent_dropout=0.35, return_sequences=True))\n",
    "model.add(LSTM(units=32,  dropout=0.05, recurrent_dropout=0.35, return_sequences=True))\n",
    "model.add(Dense(units=2, activation=\"softmax\"))\n",
    "\n",
    "model.compile(optimizer = 'adam', loss = 'categorical_crossentropy', metrics = ['accuracy'])\n",
    "\n",
    "model.summary()"
   ]
  },
  {
   "cell_type": "code",
   "execution_count": 15,
   "metadata": {
    "scrolled": true
   },
   "outputs": [
    {
     "name": "stdout",
     "output_type": "stream",
     "text": [
      "Epoch 1/20\n",
      "440/440 [==============================] - 290s 660ms/step - loss: 0.3560 - accuracy: 0.8300 - val_loss: 0.2390 - val_accuracy: 0.8956\n",
      "Epoch 2/20\n",
      "440/440 [==============================] - 283s 642ms/step - loss: 0.2126 - accuracy: 0.9079 - val_loss: 0.2132 - val_accuracy: 0.9059\n",
      "Epoch 3/20\n",
      "440/440 [==============================] - 283s 642ms/step - loss: 0.1652 - accuracy: 0.9301 - val_loss: 0.1500 - val_accuracy: 0.9388\n",
      "Epoch 4/20\n",
      "440/440 [==============================] - 282s 641ms/step - loss: 0.1380 - accuracy: 0.9413 - val_loss: 0.1808 - val_accuracy: 0.9285\n",
      "Epoch 5/20\n",
      "440/440 [==============================] - 283s 644ms/step - loss: 0.1299 - accuracy: 0.9450 - val_loss: 0.1544 - val_accuracy: 0.9392\n",
      "Epoch 6/20\n",
      "440/440 [==============================] - 280s 637ms/step - loss: 0.1242 - accuracy: 0.9477 - val_loss: 0.1247 - val_accuracy: 0.9485\n",
      "Epoch 7/20\n",
      "440/440 [==============================] - 281s 638ms/step - loss: 0.1130 - accuracy: 0.9524 - val_loss: 0.1359 - val_accuracy: 0.9474\n",
      "Epoch 8/20\n",
      "440/440 [==============================] - 307s 697ms/step - loss: 0.1017 - accuracy: 0.9566 - val_loss: 0.1241 - val_accuracy: 0.9527\n",
      "Epoch 9/20\n",
      "440/440 [==============================] - 310s 704ms/step - loss: 0.0951 - accuracy: 0.9590 - val_loss: 0.1073 - val_accuracy: 0.9561\n",
      "Epoch 10/20\n",
      "440/440 [==============================] - 310s 704ms/step - loss: 0.0910 - accuracy: 0.9603 - val_loss: 0.1455 - val_accuracy: 0.9438\n",
      "Epoch 11/20\n",
      "440/440 [==============================] - 310s 704ms/step - loss: 0.0940 - accuracy: 0.9592 - val_loss: 0.1333 - val_accuracy: 0.9517\n",
      "Epoch 12/20\n",
      "440/440 [==============================] - 312s 708ms/step - loss: 0.0888 - accuracy: 0.9620 - val_loss: 0.1314 - val_accuracy: 0.9489\n",
      "Epoch 13/20\n",
      "440/440 [==============================] - 312s 709ms/step - loss: 0.0807 - accuracy: 0.9647 - val_loss: 0.1089 - val_accuracy: 0.9599\n",
      "Epoch 14/20\n",
      "440/440 [==============================] - 314s 715ms/step - loss: 0.0877 - accuracy: 0.9625 - val_loss: 0.1384 - val_accuracy: 0.9482\n",
      "Epoch 15/20\n",
      "440/440 [==============================] - 314s 714ms/step - loss: 0.0805 - accuracy: 0.9654 - val_loss: 0.1040 - val_accuracy: 0.9601\n",
      "Epoch 16/20\n",
      "440/440 [==============================] - 313s 711ms/step - loss: 0.0760 - accuracy: 0.9677 - val_loss: 0.1080 - val_accuracy: 0.9575\n",
      "Epoch 17/20\n",
      "440/440 [==============================] - 317s 719ms/step - loss: 0.0797 - accuracy: 0.9671 - val_loss: 0.1085 - val_accuracy: 0.9567\n",
      "Epoch 18/20\n",
      "440/440 [==============================] - 314s 713ms/step - loss: 0.0842 - accuracy: 0.9645 - val_loss: 0.1011 - val_accuracy: 0.9614\n",
      "Epoch 19/20\n",
      "440/440 [==============================] - 315s 717ms/step - loss: 0.0714 - accuracy: 0.9691 - val_loss: 0.1036 - val_accuracy: 0.9613\n",
      "Epoch 20/20\n",
      "440/440 [==============================] - 315s 716ms/step - loss: 0.0676 - accuracy: 0.9706 - val_loss: 0.0948 - val_accuracy: 0.9655\n"
     ]
    }
   ],
   "source": [
    "# se entrena el modelo en 50 epocas\n",
    "history = model.fit(X_train, Y_train, epochs = 20, validation_data = (X_test, Y_test))"
   ]
  },
  {
   "cell_type": "code",
   "execution_count": 16,
   "metadata": {},
   "outputs": [
    {
     "name": "stdout",
     "output_type": "stream",
     "text": [
      "147/147 [==============================] - 15s 104ms/step - loss: 0.0948 - accuracy: 0.9655\n",
      "[0.09478216618299484, 0.965518057346344]\n"
     ]
    }
   ],
   "source": [
    "# se muestra el accuracy final obtenido\n",
    "predictions = model.predict(X_test)\n",
    "score = model.evaluate(X_test, Y_test)\n",
    "print(score)"
   ]
  },
  {
   "cell_type": "code",
   "execution_count": 17,
   "metadata": {},
   "outputs": [],
   "source": [
    "# Guardar el Modelo\n",
    "model.save('lstm.h5')"
   ]
  },
  {
   "cell_type": "code",
   "execution_count": 18,
   "metadata": {},
   "outputs": [
    {
     "data": {
      "image/png": "[encoded data removed]",
      "text/plain": [
       "<Figure size 432x288 with 1 Axes>"
      ]
     },
     "metadata": {
      "needs_background": "light"
     },
     "output_type": "display_data"
    },
    {
     "data": {
      "image/png": "[encoded data removed]",
      "text/plain": [
       "<Figure size 432x288 with 1 Axes>"
      ]
     },
     "metadata": {
      "needs_background": "light"
     },
     "output_type": "display_data"
    }
   ],
   "source": [
    "# plot history\n",
    "pyplot.plot(history.history['loss'], label='train')\n",
    "pyplot.plot(history.history['val_loss'], label='test')\n",
    "pyplot.legend()\n",
    "pyplot.xlabel('Epochs', fontsize = 12)\n",
    "pyplot.ylabel('Loss', fontsize = 12)\n",
    "pyplot.show()\n",
    "pyplot.plot(history.history['accuracy'], label='train')\n",
    "pyplot.plot(history.history['val_accuracy'], label='test')\n",
    "pyplot.legend()\n",
    "pyplot.xlabel('Epochs', fontsize = 12)\n",
    "pyplot.ylabel('Accuracy', fontsize = 12)\n",
    "pyplot.show()"
   ]
  }
 ],
 "metadata": {
  "kernelspec": {
   "display_name": "Python 3",
   "language": "python",
   "name": "python3"
  },
  "language_info": {
   "codemirror_mode": {
    "name": "ipython",
    "version": 3
   },
   "file_extension": ".py",
   "mimetype": "text/x-python",
   "name": "python",
   "nbconvert_exporter": "python",
   "pygments_lexer": "ipython3",
   "version": "3.7.6"
  }
 },
 "nbformat": 4,
 "nbformat_minor": 2
}
