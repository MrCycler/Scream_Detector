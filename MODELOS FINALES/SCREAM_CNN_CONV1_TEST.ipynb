{
  "nbformat": 4,
  "nbformat_minor": 0,
  "metadata": {
    "colab": {
      "name": "CNN_CONV1_(COLAB)TEST.ipynb",
      "provenance": []
    },
    "kernelspec": {
      "name": "python3",
      "display_name": "Python 3"
    }
  },
  "cells": [
    {
      "cell_type": "markdown",
      "metadata": {
        "id": "n5KqpCElV1hz",
        "colab_type": "text"
      },
      "source": [
        "#DETECCIÓN DE GRITOS MODELO CNN - PRUEBA"
      ]
    },
    {
      "cell_type": "markdown",
      "metadata": {
        "id": "PcuERvGpV4sQ",
        "colab_type": "text"
      },
      "source": [
        "###Importación de Librerias"
      ]
    },
    {
      "cell_type": "code",
      "metadata": {
        "id": "nE8yqjTgvHZG",
        "colab_type": "code",
        "colab": {}
      },
      "source": [
        "import numpy as np\n",
        "import librosa\n",
        "\n",
        "import IPython.display as ipd\n",
        "from matplotlib import pyplot\n",
        "from tensorflow.keras.models import load_model"
      ],
      "execution_count": 1,
      "outputs": []
    },
    {
      "cell_type": "markdown",
      "metadata": {
        "id": "bRZXLViZWDpB",
        "colab_type": "text"
      },
      "source": [
        "###Función para obtener las caracteristicas del sonido"
      ]
    },
    {
      "cell_type": "code",
      "metadata": {
        "id": "iVaYXLTTvezP",
        "colab_type": "code",
        "colab": {}
      },
      "source": [
        "def grab_sound_features(filename):\n",
        "    sample_rate = 12000\n",
        "    duration = 3\n",
        "\n",
        "    # Cargamos el audio\n",
        "    X, sample_rate = librosa.load(filename, sr=sample_rate, res_type='kaiser_fast')\n",
        "    \n",
        "    return librosa.feature.melspectrogram(y=X, sr=sample_rate).transpose()"
      ],
      "execution_count": 4,
      "outputs": []
    },
    {
      "cell_type": "markdown",
      "metadata": {
        "id": "NTM0sjUjWJwJ",
        "colab_type": "text"
      },
      "source": [
        "###Se carga y ejecuta el modelo para predicción"
      ]
    },
    {
      "cell_type": "code",
      "metadata": {
        "id": "bwuZLQNnviJW",
        "colab_type": "code",
        "colab": {}
      },
      "source": [
        "model = load_model('scream_cnn.h5')"
      ],
      "execution_count": 2,
      "outputs": []
    },
    {
      "cell_type": "code",
      "metadata": {
        "id": "Zmg3NVP_v7rR",
        "colab_type": "code",
        "colab": {
          "base_uri": "https://localhost:8080/",
          "height": 54
        },
        "outputId": "a8ae68be-e2db-427a-bbb6-6555536a2fb3"
      },
      "source": [
        "filename = 'SpiderMan.wav'\n",
        "X = grab_sound_features(filename)\n",
        "X2 = X[None,:]\n",
        "result = model.predict(X2)"
      ],
      "execution_count": 30,
      "outputs": [
        {
          "output_type": "stream",
          "text": [
            "WARNING:tensorflow:Model was constructed with shape (None, 71, 128) for input Tensor(\"conv1d_input:0\", shape=(None, 71, 128), dtype=float32), but it was called on an input with incompatible shape (None, 4515, 128).\n"
          ],
          "name": "stdout"
        }
      ]
    },
    {
      "cell_type": "markdown",
      "metadata": {
        "id": "2RBVXJ2IWQWy",
        "colab_type": "text"
      },
      "source": [
        "###Se muestra en que parte del audio detecta gritos el modelo"
      ]
    },
    {
      "cell_type": "code",
      "metadata": {
        "id": "iOHn6HQIv9b-",
        "colab_type": "code",
        "colab": {
          "base_uri": "https://localhost:8080/",
          "height": 286
        },
        "outputId": "646033a1-9cef-4961-90c2-d7475e139eee"
      },
      "source": [
        "pyplot.plot(result[0,:,1], 'rs')\n",
        "pyplot.xlabel('Time', fontsize = 12)\n",
        "pyplot.ylabel('Scream Probability', fontsize = 12)\n",
        "pyplot.axis([0, result.shape[1], 0, 1])\n",
        "pyplot.show()\n",
        "ipd.Audio(filename)"
      ],
      "execution_count": 33,
      "outputs": [
        {
          "output_type": "display_data",
          "data": {
            "image/png": "[encoded data removed]",
            "text/plain": [
              "<Figure size 432x288 with 1 Axes>"
            ]
          },
          "metadata": {
            "tags": [],
            "needs_background": "light"
          }
        }
      ]
    },
    {
      "cell_type": "code",
      "metadata": {
        "id": "mcMCtX4LwQVD",
        "colab_type": "code",
        "colab": {}
      },
      "source": [
        ""
      ],
      "execution_count": null,
      "outputs": []
    }
  ]
}
