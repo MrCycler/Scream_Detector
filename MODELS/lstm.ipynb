{
 "cells": [
  {
   "cell_type": "code",
   "execution_count": 1,
   "metadata": {},
   "outputs": [],
   "source": [
    "import pandas as pd\n",
    "import numpy as np\n",
    "import librosa\n",
    "import glob\n",
    "\n",
    "from sklearn.model_selection import train_test_split\n",
    "from tensorflow.keras.models import Sequential\n",
    "from tensorflow.keras.layers import Conv2D, Flatten, Dense, MaxPool2D, Dropout, LSTM\n",
    "from tensorflow.keras.utils import to_categorical\n",
    "\n",
    "from matplotlib import pyplot"
   ]
  },
  {
   "cell_type": "code",
   "execution_count": 2,
   "metadata": {},
   "outputs": [],
   "source": [
    "# se usa del GPU\n",
    "#device = torch.device(\"cuda\" if torch.cuda.is_available() else \"cpu\")\n",
    "#print(device)"
   ]
  },
  {
   "cell_type": "code",
   "execution_count": 3,
   "metadata": {},
   "outputs": [],
   "source": [
    "# se lee el dataframe\n",
    "#df = pd.read_csv(\"UrbanSound8K/metadata/UrbanSound8K.csv\")\n",
    "#df.head()"
   ]
  },
  {
   "cell_type": "code",
   "execution_count": 4,
   "metadata": {},
   "outputs": [],
   "source": [
    "def grab_sound_features(filename):\n",
    "    sample_rate = 12000\n",
    "    duration = 3\n",
    "\n",
    "    # Cargamos el audio\n",
    "    X, sample_rate = librosa.load(filename, sr=sample_rate, res_type='kaiser_fast')\n",
    "    n_sample = X.shape[0]\n",
    "    n_sample_fit = int(duration*sample_rate)\n",
    "\n",
    "    # Si el audio es muy grande, limitamos la duracion del audio.\n",
    "    # Si es audio es muy pequeño se completa con ceros.\n",
    "    # En ambos casos ponemos un silencio de 0.5 segundos\n",
    "    if n_sample < n_sample_fit:\n",
    "        X = np.hstack((0.5*sample_rate, X, np.zeros(n_sample_fit - n_sample)))\n",
    "    elif n_sample > n_sample_fit:\n",
    "        X = np.hstack((0.5*sample_rate, X[int((n_sample-n_sample_fit)/2):int((n_sample+n_sample_fit)/2)]))\n",
    "    \n",
    "    return librosa.feature.melspectrogram(y=X, sr=sample_rate).transpose()\n",
    "\n",
    "def parser():\n",
    "    feature = []\n",
    "    label = []\n",
    "    # Funcion para cargar archivos y extraer caracteristicas\n",
    "    for filename in glob.glob(\"data/scream/*.wav\"):\n",
    "        mels = grab_sound_features(filename)\n",
    "        feature.append(mels)\n",
    "        label.append(1)\n",
    "    for filename in glob.glob(\"data/no-scream/*.wav\"):\n",
    "        mels = grab_sound_features(filename)\n",
    "        feature.append(mels)\n",
    "        label.append(0)\n",
    "    return [feature, label]"
   ]
  },
  {
   "cell_type": "code",
   "execution_count": 5,
   "metadata": {
    "scrolled": false
   },
   "outputs": [
    {
     "name": "stderr",
     "output_type": "stream",
     "text": [
      "/home/percykim/anaconda3/lib/python3.7/site-packages/librosa/core/audio.py:161: UserWarning: PySoundFile failed. Trying audioread instead.\n",
      "  warnings.warn('PySoundFile failed. Trying audioread instead.')\n",
      "/home/percykim/anaconda3/lib/python3.7/site-packages/librosa/core/audio.py:161: UserWarning: PySoundFile failed. Trying audioread instead.\n",
      "  warnings.warn('PySoundFile failed. Trying audioread instead.')\n",
      "/home/percykim/anaconda3/lib/python3.7/site-packages/librosa/core/audio.py:161: UserWarning: PySoundFile failed. Trying audioread instead.\n",
      "  warnings.warn('PySoundFile failed. Trying audioread instead.')\n"
     ]
    }
   ],
   "source": [
    "data = np.array(parser())\n",
    "n = data.shape[1]"
   ]
  },
  {
   "cell_type": "code",
   "execution_count": 6,
   "metadata": {},
   "outputs": [
    {
     "data": {
      "text/plain": [
       "(71, 128)"
      ]
     },
     "execution_count": 6,
     "metadata": {},
     "output_type": "execute_result"
    }
   ],
   "source": [
    "data[0,0].shape"
   ]
  },
  {
   "cell_type": "code",
   "execution_count": 7,
   "metadata": {},
   "outputs": [
    {
     "name": "stdout",
     "output_type": "stream",
     "text": [
      "(166,) (166,)\n"
     ]
    }
   ],
   "source": [
    "X_ = data[0, :]\n",
    "Y = data[1, :]\n",
    "print(X_.shape, Y.shape)\n",
    "X = np.empty([n, data[0,0].shape[0], data[0,0].shape[1]])"
   ]
  },
  {
   "cell_type": "code",
   "execution_count": 8,
   "metadata": {},
   "outputs": [],
   "source": [
    "for i in range(n):\n",
    "    X[i] = (X_[i])"
   ]
  },
  {
   "cell_type": "code",
   "execution_count": 9,
   "metadata": {},
   "outputs": [],
   "source": [
    "# Convertimos los labels a 2-D\n",
    "Y = np.tile(Y,(data[0,0].shape[0],1)).transpose()"
   ]
  },
  {
   "cell_type": "code",
   "execution_count": 10,
   "metadata": {
    "scrolled": true
   },
   "outputs": [],
   "source": [
    "Y = to_categorical(Y)"
   ]
  },
  {
   "cell_type": "code",
   "execution_count": 11,
   "metadata": {},
   "outputs": [
    {
     "name": "stdout",
     "output_type": "stream",
     "text": [
      "(166, 71, 128)\n",
      "(166, 71, 2)\n"
     ]
    }
   ],
   "source": [
    "'''Final Data'''\n",
    "print(X.shape)\n",
    "print(Y.shape)"
   ]
  },
  {
   "cell_type": "code",
   "execution_count": 12,
   "metadata": {},
   "outputs": [],
   "source": [
    "# se conforman los conjuntos de entrenamiento y prueba\n",
    "X_train, X_test, Y_train, Y_test = train_test_split(X, Y, random_state = 1)"
   ]
  },
  {
   "cell_type": "code",
   "execution_count": 13,
   "metadata": {},
   "outputs": [],
   "source": [
    "# se ajusta el tamaño de los sets\n",
    "#X_train = X_train.reshape(X_train.shape[0], 16, 8, 1)\n",
    "#X_test = X_test.reshape(X_test.shape[0], 16, 8, 1)"
   ]
  },
  {
   "cell_type": "code",
   "execution_count": 14,
   "metadata": {},
   "outputs": [],
   "source": [
    "#input_dim = (16, 8, 1)"
   ]
  },
  {
   "cell_type": "code",
   "execution_count": 15,
   "metadata": {},
   "outputs": [],
   "source": [
    "input_dim = (X_train.shape[1], X_train.shape[2])"
   ]
  },
  {
   "cell_type": "code",
   "execution_count": 16,
   "metadata": {},
   "outputs": [
    {
     "data": {
      "text/plain": [
       "(71, 128)"
      ]
     },
     "execution_count": 16,
     "metadata": {},
     "output_type": "execute_result"
    }
   ],
   "source": [
    "input_dim"
   ]
  },
  {
   "cell_type": "code",
   "execution_count": 17,
   "metadata": {},
   "outputs": [
    {
     "name": "stdout",
     "output_type": "stream",
     "text": [
      "Model: \"sequential\"\n",
      "_________________________________________________________________\n",
      "Layer (type)                 Output Shape              Param #   \n",
      "=================================================================\n",
      "lstm (LSTM)                  (None, 71, 256)           394240    \n",
      "_________________________________________________________________\n",
      "lstm_1 (LSTM)                (None, 71, 128)           197120    \n",
      "_________________________________________________________________\n",
      "lstm_2 (LSTM)                (None, 71, 64)            49408     \n",
      "_________________________________________________________________\n",
      "lstm_3 (LSTM)                (None, 71, 32)            12416     \n",
      "_________________________________________________________________\n",
      "dense (Dense)                (None, 71, 2)             66        \n",
      "=================================================================\n",
      "Total params: 653,250\n",
      "Trainable params: 653,250\n",
      "Non-trainable params: 0\n",
      "_________________________________________________________________\n"
     ]
    }
   ],
   "source": [
    "# Crea el modelo en tensorflow keras\n",
    "model = Sequential()\n",
    "\n",
    "# Definimos un modelo LSTM many-to-many\n",
    "model.add(LSTM(units=256, dropout=0.05, recurrent_dropout=0.35, return_sequences=True, input_shape=input_dim))\n",
    "model.add(LSTM(units=128, dropout=0.05, recurrent_dropout=0.35, return_sequences=True))\n",
    "model.add(LSTM(units=64,  dropout=0.05, recurrent_dropout=0.35, return_sequences=True))\n",
    "model.add(LSTM(units=32,  dropout=0.05, recurrent_dropout=0.35, return_sequences=True))\n",
    "model.add(Dense(units=2, activation=\"softmax\"))\n",
    "\n",
    "model.compile(optimizer = 'adam', loss = 'categorical_crossentropy', metrics = ['accuracy'])\n",
    "\n",
    "model.summary()"
   ]
  },
  {
   "cell_type": "code",
   "execution_count": 18,
   "metadata": {
    "scrolled": true
   },
   "outputs": [
    {
     "name": "stdout",
     "output_type": "stream",
     "text": [
      "Epoch 1/50\n",
      "4/4 [==============================] - 7s 2s/step - loss: 0.5920 - accuracy: 0.7283 - val_loss: 0.4126 - val_accuracy: 0.8816\n",
      "Epoch 2/50\n",
      "4/4 [==============================] - 6s 1s/step - loss: 0.3647 - accuracy: 0.8734 - val_loss: 0.3129 - val_accuracy: 0.8846\n",
      "Epoch 3/50\n",
      "4/4 [==============================] - 5s 1s/step - loss: 0.2407 - accuracy: 0.9103 - val_loss: 0.3539 - val_accuracy: 0.8561\n",
      "Epoch 4/50\n",
      "4/4 [==============================] - 6s 1s/step - loss: 0.2262 - accuracy: 0.9167 - val_loss: 0.4119 - val_accuracy: 0.8407\n",
      "Epoch 5/50\n",
      "4/4 [==============================] - 6s 1s/step - loss: 0.2105 - accuracy: 0.9147 - val_loss: 0.3878 - val_accuracy: 0.8675\n",
      "Epoch 6/50\n",
      "4/4 [==============================] - 5s 1s/step - loss: 0.1460 - accuracy: 0.9423 - val_loss: 0.3554 - val_accuracy: 0.8699\n",
      "Epoch 7/50\n",
      "4/4 [==============================] - 5s 1s/step - loss: 0.1502 - accuracy: 0.9313 - val_loss: 0.2840 - val_accuracy: 0.8974\n",
      "Epoch 8/50\n",
      "4/4 [==============================] - 6s 1s/step - loss: 0.1032 - accuracy: 0.9552 - val_loss: 0.2520 - val_accuracy: 0.9152\n",
      "Epoch 9/50\n",
      "4/4 [==============================] - 6s 1s/step - loss: 0.0949 - accuracy: 0.9617 - val_loss: 0.2675 - val_accuracy: 0.9095\n",
      "Epoch 10/50\n",
      "4/4 [==============================] - 6s 1s/step - loss: 0.0901 - accuracy: 0.9650 - val_loss: 0.2825 - val_accuracy: 0.9111\n",
      "Epoch 11/50\n",
      "4/4 [==============================] - 6s 1s/step - loss: 0.0757 - accuracy: 0.9687 - val_loss: 0.2591 - val_accuracy: 0.9188\n",
      "Epoch 12/50\n",
      "4/4 [==============================] - 6s 1s/step - loss: 0.0701 - accuracy: 0.9693 - val_loss: 0.2724 - val_accuracy: 0.9155\n",
      "Epoch 13/50\n",
      "4/4 [==============================] - 5s 1s/step - loss: 0.0661 - accuracy: 0.9683 - val_loss: 0.2851 - val_accuracy: 0.9172\n",
      "Epoch 14/50\n",
      "4/4 [==============================] - 6s 1s/step - loss: 0.0638 - accuracy: 0.9716 - val_loss: 0.2634 - val_accuracy: 0.9239\n",
      "Epoch 15/50\n",
      "4/4 [==============================] - 6s 1s/step - loss: 0.0577 - accuracy: 0.9750 - val_loss: 0.5274 - val_accuracy: 0.8779\n",
      "Epoch 16/50\n",
      "4/4 [==============================] - 6s 2s/step - loss: 0.0570 - accuracy: 0.9738 - val_loss: 0.3175 - val_accuracy: 0.9105\n",
      "Epoch 17/50\n",
      "4/4 [==============================] - 6s 1s/step - loss: 0.0744 - accuracy: 0.9652 - val_loss: 0.3188 - val_accuracy: 0.9165\n",
      "Epoch 18/50\n",
      "4/4 [==============================] - 6s 1s/step - loss: 0.0765 - accuracy: 0.9669 - val_loss: 0.2403 - val_accuracy: 0.9209\n",
      "Epoch 19/50\n",
      "4/4 [==============================] - 6s 1s/step - loss: 0.0613 - accuracy: 0.9697 - val_loss: 0.3882 - val_accuracy: 0.9011\n",
      "Epoch 20/50\n",
      "4/4 [==============================] - 5s 1s/step - loss: 0.0536 - accuracy: 0.9735 - val_loss: 0.4293 - val_accuracy: 0.9007\n",
      "Epoch 21/50\n",
      "4/4 [==============================] - 6s 1s/step - loss: 0.0452 - accuracy: 0.9754 - val_loss: 0.4276 - val_accuracy: 0.8997\n",
      "Epoch 22/50\n",
      "4/4 [==============================] - 5s 1s/step - loss: 0.0541 - accuracy: 0.9742 - val_loss: 0.4631 - val_accuracy: 0.8957\n",
      "Epoch 23/50\n",
      "4/4 [==============================] - 6s 1s/step - loss: 0.0422 - accuracy: 0.9780 - val_loss: 0.4541 - val_accuracy: 0.8944\n",
      "Epoch 24/50\n",
      "4/4 [==============================] - 5s 1s/step - loss: 0.0442 - accuracy: 0.9774 - val_loss: 0.4420 - val_accuracy: 0.8981\n",
      "Epoch 25/50\n",
      "4/4 [==============================] - 6s 1s/step - loss: 0.0620 - accuracy: 0.9698 - val_loss: 0.4461 - val_accuracy: 0.9048\n",
      "Epoch 26/50\n",
      "4/4 [==============================] - 5s 1s/step - loss: 0.0555 - accuracy: 0.9749 - val_loss: 0.3881 - val_accuracy: 0.9098\n",
      "Epoch 27/50\n",
      "4/4 [==============================] - 5s 1s/step - loss: 0.0455 - accuracy: 0.9748 - val_loss: 0.3566 - val_accuracy: 0.9071\n",
      "Epoch 28/50\n",
      "4/4 [==============================] - 6s 1s/step - loss: 0.0434 - accuracy: 0.9773 - val_loss: 0.3674 - val_accuracy: 0.9118\n",
      "Epoch 29/50\n",
      "4/4 [==============================] - 5s 1s/step - loss: 0.0389 - accuracy: 0.9807 - val_loss: 0.3860 - val_accuracy: 0.9098\n",
      "Epoch 30/50\n",
      "4/4 [==============================] - 5s 1s/step - loss: 0.0391 - accuracy: 0.9793 - val_loss: 0.3949 - val_accuracy: 0.9111\n",
      "Epoch 31/50\n",
      "4/4 [==============================] - 5s 1s/step - loss: 0.0409 - accuracy: 0.9776 - val_loss: 0.3812 - val_accuracy: 0.9095\n",
      "Epoch 32/50\n",
      "4/4 [==============================] - 5s 1s/step - loss: 0.0388 - accuracy: 0.9773 - val_loss: 0.3850 - val_accuracy: 0.9091\n",
      "Epoch 33/50\n",
      "4/4 [==============================] - 6s 1s/step - loss: 0.0393 - accuracy: 0.9757 - val_loss: 0.4124 - val_accuracy: 0.9101\n",
      "Epoch 34/50\n",
      "4/4 [==============================] - 5s 1s/step - loss: 0.0381 - accuracy: 0.9777 - val_loss: 0.4005 - val_accuracy: 0.9101\n",
      "Epoch 35/50\n",
      "4/4 [==============================] - 5s 1s/step - loss: 0.0355 - accuracy: 0.9803 - val_loss: 0.4084 - val_accuracy: 0.9105\n",
      "Epoch 36/50\n",
      "4/4 [==============================] - 6s 1s/step - loss: 0.0371 - accuracy: 0.9763 - val_loss: 0.4195 - val_accuracy: 0.9074\n",
      "Epoch 37/50\n",
      "4/4 [==============================] - 6s 1s/step - loss: 0.0373 - accuracy: 0.9786 - val_loss: 0.4195 - val_accuracy: 0.9061\n",
      "Epoch 38/50\n",
      "4/4 [==============================] - 6s 2s/step - loss: 0.0334 - accuracy: 0.9821 - val_loss: 0.4088 - val_accuracy: 0.9068\n",
      "Epoch 39/50\n",
      "4/4 [==============================] - 6s 2s/step - loss: 0.0330 - accuracy: 0.9826 - val_loss: 0.4140 - val_accuracy: 0.9068\n",
      "Epoch 40/50\n",
      "4/4 [==============================] - 6s 1s/step - loss: 0.0356 - accuracy: 0.9791 - val_loss: 0.4178 - val_accuracy: 0.9031\n",
      "Epoch 41/50\n",
      "4/4 [==============================] - 6s 1s/step - loss: 0.0340 - accuracy: 0.9814 - val_loss: 0.4195 - val_accuracy: 0.9017\n",
      "Epoch 42/50\n",
      "4/4 [==============================] - 6s 1s/step - loss: 0.0326 - accuracy: 0.9813 - val_loss: 0.4246 - val_accuracy: 0.9014\n",
      "Epoch 43/50\n",
      "4/4 [==============================] - 6s 2s/step - loss: 0.0329 - accuracy: 0.9815 - val_loss: 0.4277 - val_accuracy: 0.9101\n",
      "Epoch 44/50\n",
      "4/4 [==============================] - 5s 1s/step - loss: 0.0300 - accuracy: 0.9817 - val_loss: 0.4378 - val_accuracy: 0.9014\n",
      "Epoch 45/50\n",
      "4/4 [==============================] - 6s 1s/step - loss: 0.0427 - accuracy: 0.9759 - val_loss: 0.4940 - val_accuracy: 0.9038\n",
      "Epoch 46/50\n",
      "4/4 [==============================] - 6s 1s/step - loss: 0.0323 - accuracy: 0.9803 - val_loss: 0.5387 - val_accuracy: 0.8940\n",
      "Epoch 47/50\n",
      "4/4 [==============================] - 6s 1s/step - loss: 0.0350 - accuracy: 0.9808 - val_loss: 0.5666 - val_accuracy: 0.8930\n",
      "Epoch 48/50\n",
      "4/4 [==============================] - 6s 1s/step - loss: 0.0313 - accuracy: 0.9809 - val_loss: 0.5453 - val_accuracy: 0.8947\n",
      "Epoch 49/50\n",
      "4/4 [==============================] - 6s 2s/step - loss: 0.0306 - accuracy: 0.9805 - val_loss: 0.5408 - val_accuracy: 0.8950\n",
      "Epoch 50/50\n",
      "4/4 [==============================] - 6s 2s/step - loss: 0.0296 - accuracy: 0.9821 - val_loss: 0.5411 - val_accuracy: 0.8917\n"
     ]
    }
   ],
   "source": [
    "# se entrena el modelo en 50 epocas\n",
    "history = model.fit(X_train, Y_train, epochs = 50, validation_data = (X_test, Y_test))"
   ]
  },
  {
   "cell_type": "code",
   "execution_count": 19,
   "metadata": {},
   "outputs": [
    {
     "name": "stdout",
     "output_type": "stream",
     "text": [
      "2/2 [==============================] - 0s 106ms/step - loss: 0.5411 - accuracy: 0.8917\n",
      "[0.5410968065261841, 0.8916834592819214]\n"
     ]
    }
   ],
   "source": [
    "# se muestra el accuracy final obtenido\n",
    "predictions = model.predict(X_test)\n",
    "score = model.evaluate(X_test, Y_test)\n",
    "print(score)"
   ]
  },
  {
   "cell_type": "code",
   "execution_count": 20,
   "metadata": {},
   "outputs": [],
   "source": [
    "# Guardar el Modelo\n",
    "model.save('lstm.h5')"
   ]
  },
  {
   "cell_type": "code",
   "execution_count": 21,
   "metadata": {},
   "outputs": [
    {
     "data": {
      "image/png": "[encoded data removed]",
      "text/plain": [
       "<Figure size 432x288 with 1 Axes>"
      ]
     },
     "metadata": {
      "needs_background": "light"
     },
     "output_type": "display_data"
    },
    {
     "data": {
      "image/png": "[encoded data removed]",
      "text/plain": [
       "<Figure size 432x288 with 1 Axes>"
      ]
     },
     "metadata": {
      "needs_background": "light"
     },
     "output_type": "display_data"
    }
   ],
   "source": [
    "# plot history\n",
    "pyplot.plot(history.history['loss'], label='train')\n",
    "pyplot.plot(history.history['val_loss'], label='test')\n",
    "pyplot.legend()\n",
    "pyplot.xlabel('Epochs', fontsize = 12)\n",
    "pyplot.ylabel('Loss', fontsize = 12)\n",
    "pyplot.show()\n",
    "pyplot.plot(history.history['accuracy'], label='train')\n",
    "pyplot.plot(history.history['val_accuracy'], label='test')\n",
    "pyplot.legend()\n",
    "pyplot.xlabel('Epochs', fontsize = 12)\n",
    "pyplot.ylabel('Accuracy', fontsize = 12)\n",
    "pyplot.show()"
   ]
  }
 ],
 "metadata": {
  "kernelspec": {
   "display_name": "Python 3",
   "language": "python",
   "name": "python3"
  },
  "language_info": {
   "codemirror_mode": {
    "name": "ipython",
    "version": 3
   },
   "file_extension": ".py",
   "mimetype": "text/x-python",
   "name": "python",
   "nbconvert_exporter": "python",
   "pygments_lexer": "ipython3",
   "version": "3.7.6"
  }
 },
 "nbformat": 4,
 "nbformat_minor": 2
}
