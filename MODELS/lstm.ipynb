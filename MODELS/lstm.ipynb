{
 "cells": [
  {
   "cell_type": "code",
   "execution_count": 1,
   "metadata": {},
   "outputs": [],
   "source": [
    "import pandas as pd\n",
    "import numpy as np\n",
    "import librosa\n",
    "import glob\n",
    "\n",
    "from sklearn.model_selection import train_test_split\n",
    "from tensorflow.keras.models import Sequential\n",
    "from tensorflow.keras.layers import Conv2D, Flatten, Dense, MaxPool2D, Dropout, LSTM\n",
    "from tensorflow.keras.utils import to_categorical\n",
    "\n",
    "from matplotlib import pyplot"
   ]
  },
  {
   "cell_type": "code",
   "execution_count": 2,
   "metadata": {},
   "outputs": [],
   "source": [
    "# se usa del GPU\n",
    "#device = torch.device(\"cuda\" if torch.cuda.is_available() else \"cpu\")\n",
    "#print(device)"
   ]
  },
  {
   "cell_type": "code",
   "execution_count": 3,
   "metadata": {},
   "outputs": [],
   "source": [
    "# se lee el dataframe\n",
    "#df = pd.read_csv(\"UrbanSound8K/metadata/UrbanSound8K.csv\")\n",
    "#df.head()"
   ]
  },
  {
   "cell_type": "code",
   "execution_count": 4,
   "metadata": {},
   "outputs": [],
   "source": [
    "def grab_sound_features(filename):\n",
    "    sample_rate = 12000\n",
    "    duration = 3\n",
    "\n",
    "    # Cargamos el audio\n",
    "    X, sample_rate = librosa.load(filename, sr=sample_rate, res_type='kaiser_fast')\n",
    "    n_sample = X.shape[0]\n",
    "    n_sample_fit = int(duration*sample_rate)\n",
    "\n",
    "    # Si el audio es muy grande, limitamos la duracion del audio.\n",
    "    # Si es menor se completa con ceros.\n",
    "    if n_sample < n_sample_fit:\n",
    "        X = np.hstack((X, np.zeros((n_sample_fit - n_sample,))))\n",
    "    elif n_sample > n_sample_fit:\n",
    "        X = X[int((n_sample-n_sample_fit)/2):int((n_sample+n_sample_fit)/2)]\n",
    "    \n",
    "    return librosa.feature.melspectrogram(y=X, sr=sample_rate)\n",
    "\n",
    "def parser():\n",
    "    feature = []\n",
    "    label = []\n",
    "    # Funcion para cargar archivos y extraer caracteristicas\n",
    "    for filename in glob.glob(\"data/scream/*.wav\"):\n",
    "        mels = grab_sound_features(filename)\n",
    "        feature.append(mels)\n",
    "        label.append(1)\n",
    "    for filename in glob.glob(\"data/no-scream/*.wav\"):\n",
    "        mels = grab_sound_features(filename)\n",
    "        feature.append(mels)\n",
    "        label.append(0)\n",
    "    return [feature, label]"
   ]
  },
  {
   "cell_type": "code",
   "execution_count": 5,
   "metadata": {},
   "outputs": [
    {
     "name": "stderr",
     "output_type": "stream",
     "text": [
      "/home/percykim/anaconda3/lib/python3.7/site-packages/librosa/core/audio.py:161: UserWarning: PySoundFile failed. Trying audioread instead.\n",
      "  warnings.warn('PySoundFile failed. Trying audioread instead.')\n",
      "/home/percykim/anaconda3/lib/python3.7/site-packages/librosa/core/audio.py:161: UserWarning: PySoundFile failed. Trying audioread instead.\n",
      "  warnings.warn('PySoundFile failed. Trying audioread instead.')\n",
      "/home/percykim/anaconda3/lib/python3.7/site-packages/librosa/core/audio.py:161: UserWarning: PySoundFile failed. Trying audioread instead.\n",
      "  warnings.warn('PySoundFile failed. Trying audioread instead.')\n"
     ]
    }
   ],
   "source": [
    "data = np.array(parser()).transpose()\n",
    "n = data.shape[0]"
   ]
  },
  {
   "cell_type": "code",
   "execution_count": 6,
   "metadata": {},
   "outputs": [
    {
     "data": {
      "text/plain": [
       "(128, 71)"
      ]
     },
     "execution_count": 6,
     "metadata": {},
     "output_type": "execute_result"
    }
   ],
   "source": [
    "data[0,0].shape"
   ]
  },
  {
   "cell_type": "code",
   "execution_count": 7,
   "metadata": {},
   "outputs": [
    {
     "name": "stdout",
     "output_type": "stream",
     "text": [
      "(166,) (166,)\n"
     ]
    }
   ],
   "source": [
    "X_ = data[:, 0]\n",
    "Y = data[:, 1]\n",
    "print(X_.shape, Y.shape)\n",
    "X = np.empty([n, data[0,0].shape[0], data[0,0].shape[1]])"
   ]
  },
  {
   "cell_type": "code",
   "execution_count": 8,
   "metadata": {},
   "outputs": [],
   "source": [
    "for i in range(n):\n",
    "    X[i] = (X_[i])"
   ]
  },
  {
   "cell_type": "code",
   "execution_count": 9,
   "metadata": {},
   "outputs": [],
   "source": [
    "Y = to_categorical(Y)"
   ]
  },
  {
   "cell_type": "code",
   "execution_count": 10,
   "metadata": {},
   "outputs": [
    {
     "name": "stdout",
     "output_type": "stream",
     "text": [
      "(166, 128, 71)\n",
      "(166, 2)\n"
     ]
    }
   ],
   "source": [
    "'''Final Data'''\n",
    "print(X.shape)\n",
    "print(Y.shape)"
   ]
  },
  {
   "cell_type": "code",
   "execution_count": 11,
   "metadata": {},
   "outputs": [],
   "source": [
    "# se conforman los conjuntos de entrenamiento y prueba\n",
    "X_train, X_test, Y_train, Y_test = train_test_split(X, Y, random_state = 1)"
   ]
  },
  {
   "cell_type": "code",
   "execution_count": 12,
   "metadata": {},
   "outputs": [],
   "source": [
    "# se ajusta el tamaño de los sets\n",
    "#X_train = X_train.reshape(X_train.shape[0], 16, 8, 1)\n",
    "#X_test = X_test.reshape(X_test.shape[0], 16, 8, 1)"
   ]
  },
  {
   "cell_type": "code",
   "execution_count": 13,
   "metadata": {},
   "outputs": [],
   "source": [
    "#input_dim = (16, 8, 1)"
   ]
  },
  {
   "cell_type": "code",
   "execution_count": 14,
   "metadata": {},
   "outputs": [],
   "source": [
    "input_dim = (X_train.shape[1], X_train.shape[2])"
   ]
  },
  {
   "cell_type": "code",
   "execution_count": 15,
   "metadata": {},
   "outputs": [
    {
     "name": "stderr",
     "output_type": "stream",
     "text": [
      "WARNING: Logging before flag parsing goes to stderr.\n",
      "W0705 12:32:39.859974 140576622987072 deprecation.py:506] From /home/percykim/anaconda3/lib/python3.7/site-packages/tensorflow/python/ops/init_ops.py:1251: calling VarianceScaling.__init__ (from tensorflow.python.ops.init_ops) with dtype is deprecated and will be removed in a future version.\n",
      "Instructions for updating:\n",
      "Call initializer instance with the dtype argument instead of passing it to the constructor\n"
     ]
    },
    {
     "name": "stdout",
     "output_type": "stream",
     "text": [
      "Model: \"sequential\"\n",
      "_________________________________________________________________\n",
      "Layer (type)                 Output Shape              Param #   \n",
      "=================================================================\n",
      "lstm (LSTM)                  (None, 128, 256)          335872    \n",
      "_________________________________________________________________\n",
      "lstm_1 (LSTM)                (None, 128, 128)          197120    \n",
      "_________________________________________________________________\n",
      "lstm_2 (LSTM)                (None, 128, 64)           49408     \n",
      "_________________________________________________________________\n",
      "lstm_3 (LSTM)                (None, 32)                12416     \n",
      "_________________________________________________________________\n",
      "dense (Dense)                (None, 2)                 66        \n",
      "=================================================================\n",
      "Total params: 594,882\n",
      "Trainable params: 594,882\n",
      "Non-trainable params: 0\n",
      "_________________________________________________________________\n"
     ]
    }
   ],
   "source": [
    "# Crea el modelo en tensorflow keras\n",
    "model = Sequential()\n",
    "\n",
    "# Definimos un modelo LSTM many to one\n",
    "model.add(LSTM(units=256, dropout=0.05, recurrent_dropout=0.35, return_sequences=True, input_shape=input_dim))\n",
    "model.add(LSTM(units=128, dropout=0.05, recurrent_dropout=0.35, return_sequences=True))\n",
    "model.add(LSTM(units=64,  dropout=0.05, recurrent_dropout=0.35, return_sequences=True))\n",
    "model.add(LSTM(units=32,  dropout=0.05, recurrent_dropout=0.35, return_sequences=False))\n",
    "model.add(Dense(units=2, activation=\"softmax\"))\n",
    "\n",
    "model.compile(optimizer = 'adam', loss = 'categorical_crossentropy', metrics = ['accuracy'])\n",
    "\n",
    "model.summary()"
   ]
  },
  {
   "cell_type": "code",
   "execution_count": 16,
   "metadata": {},
   "outputs": [
    {
     "name": "stderr",
     "output_type": "stream",
     "text": [
      "W0705 12:32:41.906971 140576622987072 deprecation.py:323] From /home/percykim/anaconda3/lib/python3.7/site-packages/tensorflow/python/ops/math_grad.py:1250: add_dispatch_support.<locals>.wrapper (from tensorflow.python.ops.array_ops) is deprecated and will be removed in a future version.\n",
      "Instructions for updating:\n",
      "Use tf.where in 2.0, which has the same broadcast rule as np.where\n"
     ]
    },
    {
     "name": "stdout",
     "output_type": "stream",
     "text": [
      "Train on 124 samples, validate on 42 samples\n",
      "Epoch 1/50\n",
      "124/124 [==============================] - 15s 120ms/sample - loss: 0.6682 - acc: 0.5000 - val_loss: 0.6178 - val_acc: 0.7381\n",
      "Epoch 2/50\n",
      "124/124 [==============================] - 8s 62ms/sample - loss: 0.5924 - acc: 0.7177 - val_loss: 0.5670 - val_acc: 0.7381\n",
      "Epoch 3/50\n",
      "124/124 [==============================] - 8s 62ms/sample - loss: 0.4980 - acc: 0.8226 - val_loss: 0.4610 - val_acc: 0.7857\n",
      "Epoch 4/50\n",
      "124/124 [==============================] - 8s 61ms/sample - loss: 0.4100 - acc: 0.8790 - val_loss: 0.3806 - val_acc: 0.8571\n",
      "Epoch 5/50\n",
      "124/124 [==============================] - 8s 60ms/sample - loss: 0.2982 - acc: 0.9032 - val_loss: 0.2989 - val_acc: 0.9048\n",
      "Epoch 6/50\n",
      "124/124 [==============================] - 8s 61ms/sample - loss: 0.2607 - acc: 0.9194 - val_loss: 0.3366 - val_acc: 0.8571\n",
      "Epoch 7/50\n",
      "124/124 [==============================] - 8s 61ms/sample - loss: 0.2805 - acc: 0.9113 - val_loss: 0.3384 - val_acc: 0.8810\n",
      "Epoch 8/50\n",
      "124/124 [==============================] - 8s 61ms/sample - loss: 0.2914 - acc: 0.8952 - val_loss: 0.3305 - val_acc: 0.8810\n",
      "Epoch 9/50\n",
      "124/124 [==============================] - 8s 61ms/sample - loss: 0.2141 - acc: 0.9435 - val_loss: 0.3731 - val_acc: 0.9048\n",
      "Epoch 10/50\n",
      "124/124 [==============================] - 8s 64ms/sample - loss: 0.2622 - acc: 0.9194 - val_loss: 0.4085 - val_acc: 0.8571\n",
      "Epoch 11/50\n",
      "124/124 [==============================] - 8s 61ms/sample - loss: 0.2026 - acc: 0.9516 - val_loss: 0.3374 - val_acc: 0.9048\n",
      "Epoch 12/50\n",
      "124/124 [==============================] - 9s 73ms/sample - loss: 0.3054 - acc: 0.9032 - val_loss: 0.3600 - val_acc: 0.8810\n",
      "Epoch 13/50\n",
      "124/124 [==============================] - 11s 90ms/sample - loss: 0.1781 - acc: 0.9516 - val_loss: 0.3314 - val_acc: 0.8810\n",
      "Epoch 14/50\n",
      "124/124 [==============================] - 9s 71ms/sample - loss: 0.2379 - acc: 0.9194 - val_loss: 0.3230 - val_acc: 0.9048\n",
      "Epoch 15/50\n",
      "124/124 [==============================] - 9s 74ms/sample - loss: 0.2279 - acc: 0.9435 - val_loss: 0.3051 - val_acc: 0.9048\n",
      "Epoch 16/50\n",
      "124/124 [==============================] - 9s 74ms/sample - loss: 0.1684 - acc: 0.9597 - val_loss: 0.3308 - val_acc: 0.8810\n",
      "Epoch 17/50\n",
      "124/124 [==============================] - 7s 60ms/sample - loss: 0.1700 - acc: 0.9597 - val_loss: 0.3449 - val_acc: 0.8333\n",
      "Epoch 18/50\n",
      "124/124 [==============================] - 8s 64ms/sample - loss: 0.1745 - acc: 0.9516 - val_loss: 0.3657 - val_acc: 0.8571\n",
      "Epoch 19/50\n",
      "124/124 [==============================] - 11s 92ms/sample - loss: 0.1940 - acc: 0.9435 - val_loss: 0.2492 - val_acc: 0.9286\n",
      "Epoch 20/50\n",
      "124/124 [==============================] - 13s 102ms/sample - loss: 0.2011 - acc: 0.9516 - val_loss: 0.4783 - val_acc: 0.8571\n",
      "Epoch 21/50\n",
      "124/124 [==============================] - 10s 82ms/sample - loss: 0.2852 - acc: 0.9113 - val_loss: 0.2772 - val_acc: 0.9048\n",
      "Epoch 22/50\n",
      "124/124 [==============================] - 10s 80ms/sample - loss: 0.1422 - acc: 0.9597 - val_loss: 0.3630 - val_acc: 0.8810\n",
      "Epoch 23/50\n",
      "124/124 [==============================] - 10s 80ms/sample - loss: 0.1795 - acc: 0.9355 - val_loss: 0.4044 - val_acc: 0.8571\n",
      "Epoch 24/50\n",
      "124/124 [==============================] - 10s 81ms/sample - loss: 0.1288 - acc: 0.9677 - val_loss: 0.2881 - val_acc: 0.9048\n",
      "Epoch 25/50\n",
      "124/124 [==============================] - 10s 81ms/sample - loss: 0.0997 - acc: 0.9758 - val_loss: 0.2939 - val_acc: 0.9048\n",
      "Epoch 26/50\n",
      "124/124 [==============================] - 11s 85ms/sample - loss: 0.1589 - acc: 0.9516 - val_loss: 0.2923 - val_acc: 0.9048\n",
      "Epoch 27/50\n",
      "124/124 [==============================] - 9s 73ms/sample - loss: 0.0841 - acc: 0.9839 - val_loss: 0.2680 - val_acc: 0.9048\n",
      "Epoch 28/50\n",
      "124/124 [==============================] - 9s 75ms/sample - loss: 0.0877 - acc: 0.9839 - val_loss: 0.2178 - val_acc: 0.9286\n",
      "Epoch 29/50\n",
      "124/124 [==============================] - 9s 73ms/sample - loss: 0.0804 - acc: 0.9839 - val_loss: 0.2016 - val_acc: 0.9524\n",
      "Epoch 30/50\n",
      "124/124 [==============================] - 9s 75ms/sample - loss: 0.0955 - acc: 0.9758 - val_loss: 0.2039 - val_acc: 0.9524\n",
      "Epoch 31/50\n",
      "124/124 [==============================] - 9s 72ms/sample - loss: 0.0811 - acc: 0.9758 - val_loss: 0.2324 - val_acc: 0.9286\n",
      "Epoch 32/50\n",
      "124/124 [==============================] - 9s 76ms/sample - loss: 0.1114 - acc: 0.9758 - val_loss: 0.2342 - val_acc: 0.9286\n",
      "Epoch 33/50\n",
      "124/124 [==============================] - 9s 76ms/sample - loss: 0.0767 - acc: 0.9839 - val_loss: 0.2610 - val_acc: 0.9048\n",
      "Epoch 34/50\n",
      "124/124 [==============================] - 10s 81ms/sample - loss: 0.0929 - acc: 0.9758 - val_loss: 0.2971 - val_acc: 0.9048\n",
      "Epoch 35/50\n",
      "124/124 [==============================] - 9s 74ms/sample - loss: 0.0842 - acc: 0.9758 - val_loss: 0.2876 - val_acc: 0.9048\n",
      "Epoch 36/50\n",
      "124/124 [==============================] - 8s 65ms/sample - loss: 0.1032 - acc: 0.9758 - val_loss: 0.2820 - val_acc: 0.9048\n",
      "Epoch 37/50\n",
      "124/124 [==============================] - 8s 68ms/sample - loss: 0.0757 - acc: 0.9839 - val_loss: 0.2853 - val_acc: 0.9048\n",
      "Epoch 38/50\n",
      "124/124 [==============================] - 8s 66ms/sample - loss: 0.0751 - acc: 0.9839 - val_loss: 0.3004 - val_acc: 0.9048\n",
      "Epoch 39/50\n",
      "124/124 [==============================] - 8s 64ms/sample - loss: 0.0734 - acc: 0.9839 - val_loss: 0.3189 - val_acc: 0.8810\n",
      "Epoch 40/50\n",
      "124/124 [==============================] - 8s 65ms/sample - loss: 0.0729 - acc: 0.9839 - val_loss: 0.3225 - val_acc: 0.8810\n",
      "Epoch 41/50\n",
      "124/124 [==============================] - 8s 65ms/sample - loss: 0.0755 - acc: 0.9839 - val_loss: 0.3255 - val_acc: 0.8810\n",
      "Epoch 42/50\n",
      "124/124 [==============================] - 8s 65ms/sample - loss: 0.1084 - acc: 0.9677 - val_loss: 0.3066 - val_acc: 0.8810\n",
      "Epoch 43/50\n",
      "124/124 [==============================] - 8s 63ms/sample - loss: 0.0738 - acc: 0.9839 - val_loss: 0.3310 - val_acc: 0.8810\n",
      "Epoch 44/50\n",
      "124/124 [==============================] - 8s 64ms/sample - loss: 0.0903 - acc: 0.9758 - val_loss: 0.3044 - val_acc: 0.8810\n",
      "Epoch 45/50\n",
      "124/124 [==============================] - 8s 64ms/sample - loss: 0.1237 - acc: 0.9597 - val_loss: 0.2130 - val_acc: 0.9286\n",
      "Epoch 46/50\n",
      "124/124 [==============================] - 8s 64ms/sample - loss: 0.0847 - acc: 0.9758 - val_loss: 0.2174 - val_acc: 0.9286\n",
      "Epoch 47/50\n",
      "124/124 [==============================] - 8s 64ms/sample - loss: 0.0821 - acc: 0.9758 - val_loss: 0.2093 - val_acc: 0.9286\n",
      "Epoch 48/50\n",
      "124/124 [==============================] - 8s 65ms/sample - loss: 0.0816 - acc: 0.9758 - val_loss: 0.2130 - val_acc: 0.9524\n",
      "Epoch 49/50\n",
      "124/124 [==============================] - 8s 64ms/sample - loss: 0.0843 - acc: 0.9758 - val_loss: 0.2322 - val_acc: 0.9286\n",
      "Epoch 50/50\n",
      "124/124 [==============================] - 8s 64ms/sample - loss: 0.0758 - acc: 0.9839 - val_loss: 0.2208 - val_acc: 0.9524\n"
     ]
    }
   ],
   "source": [
    "# se entrena el modelo en 90 epocas y batch size de 50\n",
    "#model.fit(X_train, Y_train, epochs = 90, batch_size = 50, validation_data = (X_test, Y_test))\n",
    "history = model.fit(X_train, Y_train, epochs = 50, batch_size = 50, validation_data = (X_test, Y_test))"
   ]
  },
  {
   "cell_type": "code",
   "execution_count": 17,
   "metadata": {},
   "outputs": [
    {
     "name": "stdout",
     "output_type": "stream",
     "text": [
      "42/42 [==============================] - 1s 18ms/sample - loss: 0.2208 - acc: 0.9524\n",
      "[0.22076226380609332, 0.95238096]\n"
     ]
    }
   ],
   "source": [
    "# se muestra el accuracy final obtenido\n",
    "predictions = model.predict(X_test)\n",
    "score = model.evaluate(X_test, Y_test)\n",
    "print(score)"
   ]
  },
  {
   "cell_type": "code",
   "execution_count": 18,
   "metadata": {},
   "outputs": [],
   "source": [
    "# Guardar el Modelo\n",
    "model.save('lstm.h5')"
   ]
  },
  {
   "cell_type": "code",
   "execution_count": 19,
   "metadata": {},
   "outputs": [
    {
     "data": {
      "image/png": "[encoded data removed]",
      "text/plain": [
       "<Figure size 432x288 with 1 Axes>"
      ]
     },
     "metadata": {
      "needs_background": "light"
     },
     "output_type": "display_data"
    },
    {
     "data": {
      "image/png": "[encoded data removed]",
      "text/plain": [
       "<Figure size 432x288 with 1 Axes>"
      ]
     },
     "metadata": {
      "needs_background": "light"
     },
     "output_type": "display_data"
    }
   ],
   "source": [
    "# plot history\n",
    "pyplot.plot(history.history['loss'], label='train')\n",
    "pyplot.plot(history.history['val_loss'], label='test')\n",
    "pyplot.legend()\n",
    "pyplot.xlabel('Epochs', fontsize = 12)\n",
    "pyplot.ylabel('Loss', fontsize = 12)\n",
    "pyplot.show()\n",
    "pyplot.plot(history.history['acc'], label='train')\n",
    "pyplot.plot(history.history['val_acc'], label='test')\n",
    "pyplot.legend()\n",
    "pyplot.xlabel('Epochs', fontsize = 12)\n",
    "pyplot.ylabel('Accuracy', fontsize = 12)\n",
    "pyplot.show()"
   ]
  }
 ],
 "metadata": {
  "kernelspec": {
   "display_name": "Python 3",
   "language": "python",
   "name": "python3"
  },
  "language_info": {
   "codemirror_mode": {
    "name": "ipython",
    "version": 3
   },
   "file_extension": ".py",
   "mimetype": "text/x-python",
   "name": "python",
   "nbconvert_exporter": "python",
   "pygments_lexer": "ipython3",
   "version": "3.7.3"
  }
 },
 "nbformat": 4,
 "nbformat_minor": 2
}
