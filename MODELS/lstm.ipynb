{
 "cells": [
  {
   "cell_type": "code",
   "execution_count": 1,
   "metadata": {},
   "outputs": [],
   "source": [
    "import pandas as pd\n",
    "import numpy as np\n",
    "import librosa\n",
    "import glob\n",
    "\n",
    "from sklearn.model_selection import train_test_split\n",
    "from tensorflow.keras.models import Sequential\n",
    "from tensorflow.keras.layers import Conv2D, Flatten, Dense, MaxPool2D, Dropout, LSTM\n",
    "from tensorflow.keras.utils import to_categorical\n",
    "\n",
    "from matplotlib import pyplot"
   ]
  },
  {
   "cell_type": "code",
   "execution_count": 2,
   "metadata": {},
   "outputs": [],
   "source": [
    "# se usa del GPU\n",
    "#device = torch.device(\"cuda\" if torch.cuda.is_available() else \"cpu\")\n",
    "#print(device)"
   ]
  },
  {
   "cell_type": "code",
   "execution_count": 3,
   "metadata": {},
   "outputs": [],
   "source": [
    "# se lee el dataframe\n",
    "#df = pd.read_csv(\"UrbanSound8K/metadata/UrbanSound8K.csv\")\n",
    "#df.head()"
   ]
  },
  {
   "cell_type": "code",
   "execution_count": 4,
   "metadata": {},
   "outputs": [],
   "source": [
    "def grab_sound_features(filename):\n",
    "    sample_rate = 12000\n",
    "    duration = 3\n",
    "\n",
    "    # Cargamos el audio\n",
    "    X, sample_rate = librosa.load(filename, sr=sample_rate, res_type='kaiser_fast')\n",
    "    n_sample = X.shape[0]\n",
    "    n_sample_fit = int(duration*sample_rate)\n",
    "\n",
    "    # Si el audio es muy grande, limitamos la duracion del audio.\n",
    "    # Si es menor se completa con ceros.\n",
    "    if n_sample < n_sample_fit:\n",
    "        X = np.hstack((X, np.zeros((n_sample_fit - n_sample,))))\n",
    "    elif n_sample > n_sample_fit:\n",
    "        X = X[int((n_sample-n_sample_fit)/2):int((n_sample+n_sample_fit)/2)]\n",
    "    \n",
    "    return librosa.feature.melspectrogram(y=X, sr=sample_rate).transpose()\n",
    "\n",
    "def parser():\n",
    "    feature = []\n",
    "    label = []\n",
    "    # Funcion para cargar archivos y extraer caracteristicas\n",
    "    for filename in glob.glob(\"data/scream/*.wav\"):\n",
    "        mels = grab_sound_features(filename)\n",
    "        feature.append(mels)\n",
    "        label.append(1)\n",
    "    for filename in glob.glob(\"data/no-scream/*.wav\"):\n",
    "        mels = grab_sound_features(filename)\n",
    "        feature.append(mels)\n",
    "        label.append(0)\n",
    "    return [feature, label]"
   ]
  },
  {
   "cell_type": "code",
   "execution_count": 5,
   "metadata": {
    "scrolled": false
   },
   "outputs": [
    {
     "name": "stderr",
     "output_type": "stream",
     "text": [
      "/home/percykim/anaconda3/lib/python3.7/site-packages/librosa/core/audio.py:161: UserWarning: PySoundFile failed. Trying audioread instead.\n",
      "  warnings.warn('PySoundFile failed. Trying audioread instead.')\n",
      "/home/percykim/anaconda3/lib/python3.7/site-packages/librosa/core/audio.py:161: UserWarning: PySoundFile failed. Trying audioread instead.\n",
      "  warnings.warn('PySoundFile failed. Trying audioread instead.')\n",
      "/home/percykim/anaconda3/lib/python3.7/site-packages/librosa/core/audio.py:161: UserWarning: PySoundFile failed. Trying audioread instead.\n",
      "  warnings.warn('PySoundFile failed. Trying audioread instead.')\n"
     ]
    }
   ],
   "source": [
    "data = np.array(parser())\n",
    "n = data.shape[1]"
   ]
  },
  {
   "cell_type": "code",
   "execution_count": 6,
   "metadata": {},
   "outputs": [
    {
     "data": {
      "text/plain": [
       "(71, 128)"
      ]
     },
     "execution_count": 6,
     "metadata": {},
     "output_type": "execute_result"
    }
   ],
   "source": [
    "data[0,0].shape"
   ]
  },
  {
   "cell_type": "code",
   "execution_count": 7,
   "metadata": {},
   "outputs": [
    {
     "name": "stdout",
     "output_type": "stream",
     "text": [
      "(166,) (166,)\n"
     ]
    }
   ],
   "source": [
    "X_ = data[0, :]\n",
    "Y = data[1, :]\n",
    "print(X_.shape, Y.shape)\n",
    "X = np.empty([n, data[0,0].shape[0], data[0,0].shape[1]])"
   ]
  },
  {
   "cell_type": "code",
   "execution_count": 8,
   "metadata": {},
   "outputs": [],
   "source": [
    "for i in range(n):\n",
    "    X[i] = (X_[i])"
   ]
  },
  {
   "cell_type": "code",
   "execution_count": 9,
   "metadata": {},
   "outputs": [],
   "source": [
    "# Convertimos los labels a 2-D\n",
    "Y = np.tile(Y,(data[0,0].shape[0],1)).transpose()"
   ]
  },
  {
   "cell_type": "code",
   "execution_count": 10,
   "metadata": {
    "scrolled": true
   },
   "outputs": [],
   "source": [
    "Y = to_categorical(Y)"
   ]
  },
  {
   "cell_type": "code",
   "execution_count": 11,
   "metadata": {},
   "outputs": [
    {
     "name": "stdout",
     "output_type": "stream",
     "text": [
      "(166, 71, 128)\n",
      "(166, 71, 2)\n"
     ]
    }
   ],
   "source": [
    "'''Final Data'''\n",
    "print(X.shape)\n",
    "print(Y.shape)"
   ]
  },
  {
   "cell_type": "code",
   "execution_count": 12,
   "metadata": {},
   "outputs": [],
   "source": [
    "# se conforman los conjuntos de entrenamiento y prueba\n",
    "X_train, X_test, Y_train, Y_test = train_test_split(X, Y, random_state = 1)"
   ]
  },
  {
   "cell_type": "code",
   "execution_count": 13,
   "metadata": {},
   "outputs": [],
   "source": [
    "# se ajusta el tamaño de los sets\n",
    "#X_train = X_train.reshape(X_train.shape[0], 16, 8, 1)\n",
    "#X_test = X_test.reshape(X_test.shape[0], 16, 8, 1)"
   ]
  },
  {
   "cell_type": "code",
   "execution_count": 14,
   "metadata": {},
   "outputs": [],
   "source": [
    "#input_dim = (16, 8, 1)"
   ]
  },
  {
   "cell_type": "code",
   "execution_count": 15,
   "metadata": {},
   "outputs": [],
   "source": [
    "input_dim = (X_train.shape[1], X_train.shape[2])"
   ]
  },
  {
   "cell_type": "code",
   "execution_count": 16,
   "metadata": {},
   "outputs": [
    {
     "data": {
      "text/plain": [
       "(71, 128)"
      ]
     },
     "execution_count": 16,
     "metadata": {},
     "output_type": "execute_result"
    }
   ],
   "source": [
    "input_dim"
   ]
  },
  {
   "cell_type": "code",
   "execution_count": 17,
   "metadata": {},
   "outputs": [
    {
     "name": "stdout",
     "output_type": "stream",
     "text": [
      "Model: \"sequential\"\n",
      "_________________________________________________________________\n",
      "Layer (type)                 Output Shape              Param #   \n",
      "=================================================================\n",
      "lstm (LSTM)                  (None, 71, 256)           394240    \n",
      "_________________________________________________________________\n",
      "lstm_1 (LSTM)                (None, 71, 128)           197120    \n",
      "_________________________________________________________________\n",
      "lstm_2 (LSTM)                (None, 71, 64)            49408     \n",
      "_________________________________________________________________\n",
      "lstm_3 (LSTM)                (None, 71, 32)            12416     \n",
      "_________________________________________________________________\n",
      "dense (Dense)                (None, 71, 2)             66        \n",
      "=================================================================\n",
      "Total params: 653,250\n",
      "Trainable params: 653,250\n",
      "Non-trainable params: 0\n",
      "_________________________________________________________________\n"
     ]
    }
   ],
   "source": [
    "# Crea el modelo en tensorflow keras\n",
    "model = Sequential()\n",
    "\n",
    "# Definimos un modelo LSTM many-to-many\n",
    "model.add(LSTM(units=256, dropout=0.05, recurrent_dropout=0.35, return_sequences=True, input_shape=input_dim))\n",
    "#model.add(LSTM(units=128, return_sequences=True, input_shape=(71, 128)))\n",
    "model.add(LSTM(units=128, dropout=0.05, recurrent_dropout=0.35, return_sequences=True))\n",
    "model.add(LSTM(units=64,  dropout=0.05, recurrent_dropout=0.35, return_sequences=True))\n",
    "model.add(LSTM(units=32,  dropout=0.05, recurrent_dropout=0.35, return_sequences=True))\n",
    "model.add(Dense(units=2, activation=\"softmax\"))\n",
    "\n",
    "model.compile(optimizer = 'adam', loss = 'categorical_crossentropy', metrics = ['accuracy'])\n",
    "\n",
    "model.summary()"
   ]
  },
  {
   "cell_type": "code",
   "execution_count": 18,
   "metadata": {
    "scrolled": true
   },
   "outputs": [
    {
     "name": "stdout",
     "output_type": "stream",
     "text": [
      "Epoch 1/50\n",
      "4/4 [==============================] - 8s 2s/step - loss: 0.6130 - accuracy: 0.6932 - val_loss: 0.4396 - val_accuracy: 0.8833\n",
      "Epoch 2/50\n",
      "4/4 [==============================] - 6s 1s/step - loss: 0.3830 - accuracy: 0.8952 - val_loss: 0.2794 - val_accuracy: 0.9145\n",
      "Epoch 3/50\n",
      "4/4 [==============================] - 6s 1s/step - loss: 0.2610 - accuracy: 0.9207 - val_loss: 0.2643 - val_accuracy: 0.9172\n",
      "Epoch 4/50\n",
      "4/4 [==============================] - 5s 1s/step - loss: 0.1711 - accuracy: 0.9539 - val_loss: 0.3553 - val_accuracy: 0.8625\n",
      "Epoch 5/50\n",
      "4/4 [==============================] - 6s 2s/step - loss: 0.1261 - accuracy: 0.9690 - val_loss: 0.3468 - val_accuracy: 0.8810\n",
      "Epoch 6/50\n",
      "4/4 [==============================] - 6s 1s/step - loss: 0.0759 - accuracy: 0.9842 - val_loss: 0.3702 - val_accuracy: 0.8944\n",
      "Epoch 7/50\n",
      "4/4 [==============================] - 6s 1s/step - loss: 0.0587 - accuracy: 0.9881 - val_loss: 0.3965 - val_accuracy: 0.8974\n",
      "Epoch 8/50\n",
      "4/4 [==============================] - 5s 1s/step - loss: 0.0557 - accuracy: 0.9883 - val_loss: 0.3996 - val_accuracy: 0.9058\n",
      "Epoch 9/50\n",
      "4/4 [==============================] - 6s 2s/step - loss: 0.0451 - accuracy: 0.9907 - val_loss: 0.4297 - val_accuracy: 0.9044\n",
      "Epoch 10/50\n",
      "4/4 [==============================] - 6s 2s/step - loss: 0.0425 - accuracy: 0.9896 - val_loss: 0.4602 - val_accuracy: 0.9024\n",
      "Epoch 11/50\n",
      "4/4 [==============================] - 6s 2s/step - loss: 0.0528 - accuracy: 0.9889 - val_loss: 0.4696 - val_accuracy: 0.9078\n",
      "Epoch 12/50\n",
      "4/4 [==============================] - 6s 1s/step - loss: 0.0347 - accuracy: 0.9923 - val_loss: 0.4800 - val_accuracy: 0.9085\n",
      "Epoch 13/50\n",
      "4/4 [==============================] - 5s 1s/step - loss: 0.0323 - accuracy: 0.9923 - val_loss: 0.4987 - val_accuracy: 0.9021\n",
      "Epoch 14/50\n",
      "4/4 [==============================] - 6s 2s/step - loss: 0.0297 - accuracy: 0.9935 - val_loss: 0.5081 - val_accuracy: 0.9001\n",
      "Epoch 15/50\n",
      "4/4 [==============================] - 6s 2s/step - loss: 0.0762 - accuracy: 0.9857 - val_loss: 0.5084 - val_accuracy: 0.9054\n",
      "Epoch 16/50\n",
      "4/4 [==============================] - 6s 1s/step - loss: 0.0268 - accuracy: 0.9942 - val_loss: 0.5158 - val_accuracy: 0.9044\n",
      "Epoch 17/50\n",
      "4/4 [==============================] - 5s 1s/step - loss: 0.0257 - accuracy: 0.9940 - val_loss: 0.5242 - val_accuracy: 0.9034\n",
      "Epoch 18/50\n",
      "4/4 [==============================] - 5s 1s/step - loss: 0.0250 - accuracy: 0.9940 - val_loss: 0.5324 - val_accuracy: 0.9034\n",
      "Epoch 19/50\n",
      "4/4 [==============================] - 5s 1s/step - loss: 0.0254 - accuracy: 0.9942 - val_loss: 0.5379 - val_accuracy: 0.9038\n",
      "Epoch 20/50\n",
      "4/4 [==============================] - 5s 1s/step - loss: 0.0242 - accuracy: 0.9942 - val_loss: 0.5432 - val_accuracy: 0.9041\n",
      "Epoch 21/50\n",
      "4/4 [==============================] - 6s 1s/step - loss: 0.0228 - accuracy: 0.9945 - val_loss: 0.5462 - val_accuracy: 0.9048\n",
      "Epoch 22/50\n",
      "4/4 [==============================] - 6s 1s/step - loss: 0.0217 - accuracy: 0.9953 - val_loss: 0.5499 - val_accuracy: 0.9051\n",
      "Epoch 23/50\n",
      "4/4 [==============================] - 5s 1s/step - loss: 0.0208 - accuracy: 0.9957 - val_loss: 0.5544 - val_accuracy: 0.9054\n",
      "Epoch 24/50\n",
      "4/4 [==============================] - 6s 1s/step - loss: 0.0216 - accuracy: 0.9948 - val_loss: 0.5769 - val_accuracy: 0.9058\n",
      "Epoch 25/50\n",
      "4/4 [==============================] - 6s 1s/step - loss: 0.0216 - accuracy: 0.9948 - val_loss: 0.5939 - val_accuracy: 0.9054\n",
      "Epoch 26/50\n",
      "4/4 [==============================] - 6s 2s/step - loss: 0.0209 - accuracy: 0.9950 - val_loss: 0.6065 - val_accuracy: 0.9041\n",
      "Epoch 27/50\n",
      "4/4 [==============================] - 6s 2s/step - loss: 0.0198 - accuracy: 0.9953 - val_loss: 0.6155 - val_accuracy: 0.9024\n",
      "Epoch 28/50\n",
      "4/4 [==============================] - 6s 1s/step - loss: 0.0187 - accuracy: 0.9955 - val_loss: 0.6226 - val_accuracy: 0.9007\n",
      "Epoch 29/50\n",
      "4/4 [==============================] - 6s 2s/step - loss: 0.0184 - accuracy: 0.9951 - val_loss: 0.6277 - val_accuracy: 0.9001\n",
      "Epoch 30/50\n",
      "4/4 [==============================] - 6s 1s/step - loss: 0.0178 - accuracy: 0.9951 - val_loss: 0.6259 - val_accuracy: 0.8997\n",
      "Epoch 31/50\n",
      "4/4 [==============================] - 6s 2s/step - loss: 0.0172 - accuracy: 0.9955 - val_loss: 0.6203 - val_accuracy: 0.9011\n",
      "Epoch 32/50\n",
      "4/4 [==============================] - 6s 1s/step - loss: 0.0168 - accuracy: 0.9955 - val_loss: 0.6138 - val_accuracy: 0.9017\n",
      "Epoch 33/50\n",
      "4/4 [==============================] - 6s 1s/step - loss: 0.0165 - accuracy: 0.9959 - val_loss: 0.5390 - val_accuracy: 0.9105\n",
      "Epoch 34/50\n",
      "4/4 [==============================] - 6s 1s/step - loss: 0.0162 - accuracy: 0.9953 - val_loss: 0.5018 - val_accuracy: 0.9168\n",
      "Epoch 35/50\n",
      "4/4 [==============================] - 6s 2s/step - loss: 0.0158 - accuracy: 0.9960 - val_loss: 0.6409 - val_accuracy: 0.9044\n",
      "Epoch 36/50\n",
      "4/4 [==============================] - 6s 2s/step - loss: 0.0160 - accuracy: 0.9953 - val_loss: 0.6489 - val_accuracy: 0.9048\n",
      "Epoch 37/50\n",
      "4/4 [==============================] - 7s 2s/step - loss: 0.0154 - accuracy: 0.9958 - val_loss: 0.6539 - val_accuracy: 0.9044\n",
      "Epoch 38/50\n",
      "4/4 [==============================] - 7s 2s/step - loss: 0.0149 - accuracy: 0.9958 - val_loss: 0.6573 - val_accuracy: 0.9041\n",
      "Epoch 39/50\n",
      "4/4 [==============================] - 7s 2s/step - loss: 0.0148 - accuracy: 0.9958 - val_loss: 0.6606 - val_accuracy: 0.9041\n",
      "Epoch 40/50\n",
      "4/4 [==============================] - 6s 2s/step - loss: 0.0144 - accuracy: 0.9958 - val_loss: 0.6600 - val_accuracy: 0.9041\n",
      "Epoch 41/50\n",
      "4/4 [==============================] - 6s 2s/step - loss: 0.0141 - accuracy: 0.9959 - val_loss: 0.6562 - val_accuracy: 0.9038\n",
      "Epoch 42/50\n",
      "4/4 [==============================] - 6s 1s/step - loss: 0.0138 - accuracy: 0.9960 - val_loss: 0.6577 - val_accuracy: 0.9038\n",
      "Epoch 43/50\n",
      "4/4 [==============================] - 6s 2s/step - loss: 0.0135 - accuracy: 0.9963 - val_loss: 0.6431 - val_accuracy: 0.9041\n",
      "Epoch 44/50\n",
      "4/4 [==============================] - 6s 2s/step - loss: 0.0133 - accuracy: 0.9963 - val_loss: 0.5369 - val_accuracy: 0.9162\n",
      "Epoch 45/50\n",
      "4/4 [==============================] - 6s 1s/step - loss: 0.0134 - accuracy: 0.9960 - val_loss: 0.5480 - val_accuracy: 0.9165\n",
      "Epoch 46/50\n",
      "4/4 [==============================] - 6s 2s/step - loss: 0.0128 - accuracy: 0.9967 - val_loss: 0.5439 - val_accuracy: 0.9178\n",
      "Epoch 47/50\n",
      "4/4 [==============================] - 6s 1s/step - loss: 0.0127 - accuracy: 0.9961 - val_loss: 0.5583 - val_accuracy: 0.9172\n",
      "Epoch 48/50\n",
      "4/4 [==============================] - 6s 2s/step - loss: 0.0121 - accuracy: 0.9966 - val_loss: 0.5289 - val_accuracy: 0.9212\n",
      "Epoch 49/50\n",
      "4/4 [==============================] - 6s 2s/step - loss: 0.0121 - accuracy: 0.9963 - val_loss: 0.5473 - val_accuracy: 0.9195\n",
      "Epoch 50/50\n",
      "4/4 [==============================] - 6s 2s/step - loss: 0.0118 - accuracy: 0.9964 - val_loss: 0.5265 - val_accuracy: 0.9222\n"
     ]
    }
   ],
   "source": [
    "# se entrena el modelo en 50 epocas\n",
    "history = model.fit(X_train, Y_train, epochs = 50, validation_data = (X_test, Y_test))\n"
   ]
  },
  {
   "cell_type": "code",
   "execution_count": 19,
   "metadata": {},
   "outputs": [
    {
     "name": "stdout",
     "output_type": "stream",
     "text": [
      "2/2 [==============================] - 0s 106ms/step - loss: 0.5265 - accuracy: 0.9222\n",
      "[0.5265498757362366, 0.9221998453140259]\n"
     ]
    }
   ],
   "source": [
    "# se muestra el accuracy final obtenido\n",
    "predictions = model.predict(X_test)\n",
    "score = model.evaluate(X_test, Y_test)\n",
    "print(score)"
   ]
  },
  {
   "cell_type": "code",
   "execution_count": 20,
   "metadata": {},
   "outputs": [],
   "source": [
    "# Guardar el Modelo\n",
    "model.save('lstm.h5')"
   ]
  },
  {
   "cell_type": "code",
   "execution_count": 21,
   "metadata": {},
   "outputs": [
    {
     "data": {
      "image/png": "[encoded data removed]",
      "text/plain": [
       "<Figure size 432x288 with 1 Axes>"
      ]
     },
     "metadata": {
      "needs_background": "light"
     },
     "output_type": "display_data"
    },
    {
     "data": {
      "image/png": "[encoded data removed]",
      "text/plain": [
       "<Figure size 432x288 with 1 Axes>"
      ]
     },
     "metadata": {
      "needs_background": "light"
     },
     "output_type": "display_data"
    }
   ],
   "source": [
    "# plot history\n",
    "pyplot.plot(history.history['loss'], label='train')\n",
    "pyplot.plot(history.history['val_loss'], label='test')\n",
    "pyplot.legend()\n",
    "pyplot.xlabel('Epochs', fontsize = 12)\n",
    "pyplot.ylabel('Loss', fontsize = 12)\n",
    "pyplot.show()\n",
    "pyplot.plot(history.history['accuracy'], label='train')\n",
    "pyplot.plot(history.history['val_accuracy'], label='test')\n",
    "pyplot.legend()\n",
    "pyplot.xlabel('Epochs', fontsize = 12)\n",
    "pyplot.ylabel('Accuracy', fontsize = 12)\n",
    "pyplot.show()"
   ]
  }
 ],
 "metadata": {
  "kernelspec": {
   "display_name": "Python 3",
   "language": "python",
   "name": "python3"
  },
  "language_info": {
   "codemirror_mode": {
    "name": "ipython",
    "version": 3
   },
   "file_extension": ".py",
   "mimetype": "text/x-python",
   "name": "python",
   "nbconvert_exporter": "python",
   "pygments_lexer": "ipython3",
   "version": "3.7.6"
  }
 },
 "nbformat": 4,
 "nbformat_minor": 2
}
