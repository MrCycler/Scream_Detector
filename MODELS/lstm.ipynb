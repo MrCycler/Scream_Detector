{
 "cells": [
  {
   "cell_type": "code",
   "execution_count": 1,
   "metadata": {},
   "outputs": [],
   "source": [
    "import pandas as pd\n",
    "import numpy as np\n",
    "import librosa\n",
    "import glob\n",
    "\n",
    "from sklearn.model_selection import train_test_split\n",
    "from tensorflow.keras.models import Sequential\n",
    "from tensorflow.keras.layers import Conv2D, Flatten, Dense, MaxPool2D, Dropout, LSTM\n",
    "from tensorflow.keras.utils import to_categorical\n",
    "\n",
    "import IPython.display as ipd\n",
    "#from custom_callbacks import LrFinder, reset_weights, CycleLearner, save_weights"
   ]
  },
  {
   "cell_type": "code",
   "execution_count": 2,
   "metadata": {},
   "outputs": [],
   "source": [
    "# se usa del GPU\n",
    "#device = torch.device(\"cuda\" if torch.cuda.is_available() else \"cpu\")\n",
    "#print(device)"
   ]
  },
  {
   "cell_type": "code",
   "execution_count": 3,
   "metadata": {
    "colab": {
     "base_uri": "https://localhost:8080/",
     "height": 197
    },
    "colab_type": "code",
    "executionInfo": {
     "elapsed": 7353,
     "status": "ok",
     "timestamp": 1591846569889,
     "user": {
      "displayName": "JUAN MANUEL MENDOZA JACINTO",
      "photoUrl": "https://lh3.googleusercontent.com/a-/AOh14GjqzRmr_78w7iF9UHrl5RLxStJ54OAcp7xAkk7_52Y=s64",
      "userId": "08286022155372389049"
     },
     "user_tz": 300
    },
    "id": "9S3M-we7mAfh",
    "outputId": "892bd244-498e-4268-9ee9-77522efb1fe8"
   },
   "outputs": [],
   "source": [
    "# se lee el dataframe\n",
    "#df = pd.read_csv(\"UrbanSound8K/metadata/UrbanSound8K.csv\")\n",
    "#df.head()"
   ]
  },
  {
   "cell_type": "code",
   "execution_count": 4,
   "metadata": {},
   "outputs": [],
   "source": [
    "def grab_sound_features(filename):\n",
    "    sample_rate = 12000\n",
    "    duration = 3\n",
    "\n",
    "    # Cargamos el audio\n",
    "    X, sample_rate = librosa.load(filename, sr=sample_rate, res_type='kaiser_fast')\n",
    "    n_sample = X.shape[0]\n",
    "    n_sample_fit = int(duration*sample_rate)\n",
    "\n",
    "    # Si el audio es muy grande, limitamos la duracion del audio.\n",
    "    # Si es menor se completa con ceros.\n",
    "    if n_sample < n_sample_fit:\n",
    "        X = np.hstack((X, np.zeros((n_sample_fit - n_sample,))))\n",
    "    elif n_sample > n_sample_fit:\n",
    "        X = X[int((n_sample-n_sample_fit)/2):int((n_sample+n_sample_fit)/2)]\n",
    "    \n",
    "    return librosa.feature.melspectrogram(y=X, sr=sample_rate)\n",
    "\n",
    "def parser():\n",
    "    feature = []\n",
    "    label = []\n",
    "    # Funcion para cargar archivos y extraer caracteristicas\n",
    "    for filename in glob.glob(\"data/scream/*.wav\"):\n",
    "        mels = grab_sound_features(filename)\n",
    "        feature.append(mels)\n",
    "        label.append(1)\n",
    "    for filename in glob.glob(\"data/no-scream/*.wav\"):\n",
    "        mels = grab_sound_features(filename)\n",
    "        feature.append(mels)\n",
    "        label.append(0)\n",
    "    return [feature, label]"
   ]
  },
  {
   "cell_type": "code",
   "execution_count": 5,
   "metadata": {},
   "outputs": [
    {
     "name": "stderr",
     "output_type": "stream",
     "text": [
      "/home/percykim/anaconda3/lib/python3.7/site-packages/librosa/core/audio.py:161: UserWarning: PySoundFile failed. Trying audioread instead.\n",
      "  warnings.warn('PySoundFile failed. Trying audioread instead.')\n",
      "/home/percykim/anaconda3/lib/python3.7/site-packages/librosa/core/audio.py:161: UserWarning: PySoundFile failed. Trying audioread instead.\n",
      "  warnings.warn('PySoundFile failed. Trying audioread instead.')\n",
      "/home/percykim/anaconda3/lib/python3.7/site-packages/librosa/core/audio.py:161: UserWarning: PySoundFile failed. Trying audioread instead.\n",
      "  warnings.warn('PySoundFile failed. Trying audioread instead.')\n"
     ]
    }
   ],
   "source": [
    "data = np.array(parser()).transpose()\n",
    "n = data.shape[0]"
   ]
  },
  {
   "cell_type": "code",
   "execution_count": 6,
   "metadata": {},
   "outputs": [
    {
     "data": {
      "text/plain": [
       "(128, 71)"
      ]
     },
     "execution_count": 6,
     "metadata": {},
     "output_type": "execute_result"
    }
   ],
   "source": [
    "data[0,0].shape"
   ]
  },
  {
   "cell_type": "code",
   "execution_count": 7,
   "metadata": {
    "colab": {
     "base_uri": "https://localhost:8080/",
     "height": 34
    },
    "colab_type": "code",
    "executionInfo": {
     "elapsed": 1865480,
     "status": "ok",
     "timestamp": 1591848428069,
     "user": {
      "displayName": "JUAN MANUEL MENDOZA JACINTO",
      "photoUrl": "https://lh3.googleusercontent.com/a-/AOh14GjqzRmr_78w7iF9UHrl5RLxStJ54OAcp7xAkk7_52Y=s64",
      "userId": "08286022155372389049"
     },
     "user_tz": 300
    },
    "id": "L-YtlMi9mAla",
    "outputId": "166aa952-487d-48ac-eb6b-9e7dad82691e"
   },
   "outputs": [
    {
     "name": "stdout",
     "output_type": "stream",
     "text": [
      "(166,) (166,)\n"
     ]
    }
   ],
   "source": [
    "X_ = data[:, 0]\n",
    "Y = data[:, 1]\n",
    "print(X_.shape, Y.shape)\n",
    "X = np.empty([n, data[0,0].shape[0], data[0,0].shape[1]])"
   ]
  },
  {
   "cell_type": "code",
   "execution_count": 8,
   "metadata": {
    "colab": {},
    "colab_type": "code",
    "id": "zB_PeyrsPKnJ"
   },
   "outputs": [],
   "source": [
    "for i in range(n):\n",
    "    X[i] = (X_[i])"
   ]
  },
  {
   "cell_type": "code",
   "execution_count": 9,
   "metadata": {
    "colab": {},
    "colab_type": "code",
    "id": "rR5A7axGPLSu",
    "scrolled": true
   },
   "outputs": [],
   "source": [
    "Y = to_categorical(Y)"
   ]
  },
  {
   "cell_type": "code",
   "execution_count": 10,
   "metadata": {
    "colab": {
     "base_uri": "https://localhost:8080/",
     "height": 52
    },
    "colab_type": "code",
    "executionInfo": {
     "elapsed": 1865481,
     "status": "ok",
     "timestamp": 1591848428083,
     "user": {
      "displayName": "JUAN MANUEL MENDOZA JACINTO",
      "photoUrl": "https://lh3.googleusercontent.com/a-/AOh14GjqzRmr_78w7iF9UHrl5RLxStJ54OAcp7xAkk7_52Y=s64",
      "userId": "08286022155372389049"
     },
     "user_tz": 300
    },
    "id": "iFSsayXaPOIX",
    "outputId": "67af3891-b0cf-41c7-a5fd-03f2b4f1e668"
   },
   "outputs": [
    {
     "name": "stdout",
     "output_type": "stream",
     "text": [
      "(166, 128, 71)\n",
      "(166, 2)\n"
     ]
    }
   ],
   "source": [
    "'''Final Data'''\n",
    "print(X.shape)\n",
    "print(Y.shape)"
   ]
  },
  {
   "cell_type": "code",
   "execution_count": 11,
   "metadata": {
    "colab": {},
    "colab_type": "code",
    "id": "XWrWo2eLPT4p",
    "scrolled": true
   },
   "outputs": [],
   "source": [
    "# se conforman los conjuntos de entrenamiento y prueba\n",
    "X_train, X_test, Y_train, Y_test = train_test_split(X, Y, random_state = 1)"
   ]
  },
  {
   "cell_type": "code",
   "execution_count": 12,
   "metadata": {
    "colab": {},
    "colab_type": "code",
    "id": "wFj1gvx6PWr2"
   },
   "outputs": [],
   "source": [
    "# se ajusta el tamaño de los sets\n",
    "#X_train = X_train.reshape(X_train.shape[0], 16, 8, 1)\n",
    "#X_test = X_test.reshape(X_test.shape[0], 16, 8, 1)"
   ]
  },
  {
   "cell_type": "code",
   "execution_count": 13,
   "metadata": {
    "colab": {},
    "colab_type": "code",
    "id": "-p7CkvD2PW2e"
   },
   "outputs": [],
   "source": [
    "#input_dim = (16, 8, 1)"
   ]
  },
  {
   "cell_type": "code",
   "execution_count": 14,
   "metadata": {},
   "outputs": [],
   "source": [
    "input_dim = (X_train.shape[1], X_train.shape[2])"
   ]
  },
  {
   "cell_type": "code",
   "execution_count": 15,
   "metadata": {},
   "outputs": [
    {
     "name": "stderr",
     "output_type": "stream",
     "text": [
      "WARNING: Logging before flag parsing goes to stderr.\n",
      "W0704 21:05:14.072494 139796652042048 deprecation.py:506] From /home/percykim/anaconda3/lib/python3.7/site-packages/tensorflow/python/ops/init_ops.py:1251: calling VarianceScaling.__init__ (from tensorflow.python.ops.init_ops) with dtype is deprecated and will be removed in a future version.\n",
      "Instructions for updating:\n",
      "Call initializer instance with the dtype argument instead of passing it to the constructor\n"
     ]
    },
    {
     "name": "stdout",
     "output_type": "stream",
     "text": [
      "Model: \"sequential\"\n",
      "_________________________________________________________________\n",
      "Layer (type)                 Output Shape              Param #   \n",
      "=================================================================\n",
      "lstm (LSTM)                  (None, 128, 256)          335872    \n",
      "_________________________________________________________________\n",
      "lstm_1 (LSTM)                (None, 128, 128)          197120    \n",
      "_________________________________________________________________\n",
      "lstm_2 (LSTM)                (None, 128, 64)           49408     \n",
      "_________________________________________________________________\n",
      "lstm_3 (LSTM)                (None, 32)                12416     \n",
      "_________________________________________________________________\n",
      "dense (Dense)                (None, 2)                 66        \n",
      "=================================================================\n",
      "Total params: 594,882\n",
      "Trainable params: 594,882\n",
      "Non-trainable params: 0\n",
      "_________________________________________________________________\n"
     ]
    }
   ],
   "source": [
    "# Crea el modelo en tensorflow keras\n",
    "model = Sequential()\n",
    "\n",
    "# Definimos un modelo LSTM many to one\n",
    "model.add(LSTM(units=256, dropout=0.05, recurrent_dropout=0.35, return_sequences=True, input_shape=input_dim))\n",
    "model.add(LSTM(units=128, dropout=0.05, recurrent_dropout=0.35, return_sequences=True))\n",
    "model.add(LSTM(units=64,  dropout=0.05, recurrent_dropout=0.35, return_sequences=True))\n",
    "model.add(LSTM(units=32,  dropout=0.05, recurrent_dropout=0.35, return_sequences=False))\n",
    "model.add(Dense(units=2, activation=\"softmax\"))\n",
    "\n",
    "model.compile(optimizer = 'adam', loss = 'categorical_crossentropy', metrics = ['accuracy'])\n",
    "\n",
    "model.summary()"
   ]
  },
  {
   "cell_type": "code",
   "execution_count": 16,
   "metadata": {
    "colab": {
     "base_uri": "https://localhost:8080/",
     "height": 1000
    },
    "colab_type": "code",
    "executionInfo": {
     "elapsed": 1936811,
     "status": "ok",
     "timestamp": 1591848499455,
     "user": {
      "displayName": "JUAN MANUEL MENDOZA JACINTO",
      "photoUrl": "https://lh3.googleusercontent.com/a-/AOh14GjqzRmr_78w7iF9UHrl5RLxStJ54OAcp7xAkk7_52Y=s64",
      "userId": "08286022155372389049"
     },
     "user_tz": 300
    },
    "id": "EDnrOMFNPXDV",
    "outputId": "fb451152-4bf7-4b42-da9f-e26c83745de0",
    "scrolled": true
   },
   "outputs": [
    {
     "name": "stderr",
     "output_type": "stream",
     "text": [
      "W0704 21:05:16.011467 139796652042048 deprecation.py:323] From /home/percykim/anaconda3/lib/python3.7/site-packages/tensorflow/python/ops/math_grad.py:1250: add_dispatch_support.<locals>.wrapper (from tensorflow.python.ops.array_ops) is deprecated and will be removed in a future version.\n",
      "Instructions for updating:\n",
      "Use tf.where in 2.0, which has the same broadcast rule as np.where\n"
     ]
    },
    {
     "name": "stdout",
     "output_type": "stream",
     "text": [
      "Train on 124 samples, validate on 42 samples\n",
      "Epoch 1/50\n",
      "124/124 [==============================] - 15s 123ms/sample - loss: 0.6659 - acc: 0.6371 - val_loss: 0.6010 - val_acc: 0.7857\n",
      "Epoch 2/50\n",
      "124/124 [==============================] - 8s 65ms/sample - loss: 0.5859 - acc: 0.7339 - val_loss: 0.5455 - val_acc: 0.7619\n",
      "Epoch 3/50\n",
      "124/124 [==============================] - 7s 60ms/sample - loss: 0.4827 - acc: 0.8468 - val_loss: 0.4832 - val_acc: 0.7857\n",
      "Epoch 4/50\n",
      "124/124 [==============================] - 7s 59ms/sample - loss: 0.4267 - acc: 0.8145 - val_loss: 0.3850 - val_acc: 0.8571\n",
      "Epoch 5/50\n",
      "124/124 [==============================] - 8s 64ms/sample - loss: 0.3102 - acc: 0.8952 - val_loss: 0.3654 - val_acc: 0.8571\n",
      "Epoch 6/50\n",
      "124/124 [==============================] - 9s 71ms/sample - loss: 0.2599 - acc: 0.9274 - val_loss: 0.3792 - val_acc: 0.8571\n",
      "Epoch 7/50\n",
      "124/124 [==============================] - 8s 66ms/sample - loss: 0.2852 - acc: 0.8952 - val_loss: 0.3107 - val_acc: 0.9048\n",
      "Epoch 8/50\n",
      "124/124 [==============================] - 8s 63ms/sample - loss: 0.3369 - acc: 0.8952 - val_loss: 0.3243 - val_acc: 0.8571\n",
      "Epoch 9/50\n",
      "124/124 [==============================] - 8s 62ms/sample - loss: 0.2073 - acc: 0.9355 - val_loss: 0.3903 - val_acc: 0.8810\n",
      "Epoch 10/50\n",
      "124/124 [==============================] - 8s 63ms/sample - loss: 0.2480 - acc: 0.9113 - val_loss: 0.3924 - val_acc: 0.8571\n",
      "Epoch 11/50\n",
      "124/124 [==============================] - 8s 67ms/sample - loss: 0.1838 - acc: 0.9516 - val_loss: 0.3314 - val_acc: 0.8571\n",
      "Epoch 12/50\n",
      "124/124 [==============================] - 8s 68ms/sample - loss: 0.1850 - acc: 0.9516 - val_loss: 0.2029 - val_acc: 0.9524\n",
      "Epoch 13/50\n",
      "124/124 [==============================] - 7s 59ms/sample - loss: 0.2057 - acc: 0.9355 - val_loss: 0.2852 - val_acc: 0.8810\n",
      "Epoch 14/50\n",
      "124/124 [==============================] - 8s 64ms/sample - loss: 0.1535 - acc: 0.9516 - val_loss: 0.2671 - val_acc: 0.9048\n",
      "Epoch 15/50\n",
      "124/124 [==============================] - 7s 60ms/sample - loss: 0.1567 - acc: 0.9597 - val_loss: 0.2582 - val_acc: 0.9286\n",
      "Epoch 16/50\n",
      "124/124 [==============================] - 8s 62ms/sample - loss: 0.1586 - acc: 0.9435 - val_loss: 0.2501 - val_acc: 0.9286\n",
      "Epoch 17/50\n",
      "124/124 [==============================] - 7s 60ms/sample - loss: 0.1570 - acc: 0.9677 - val_loss: 0.1801 - val_acc: 0.9524\n",
      "Epoch 18/50\n",
      "124/124 [==============================] - 9s 69ms/sample - loss: 0.1305 - acc: 0.9597 - val_loss: 0.2002 - val_acc: 0.9286\n",
      "Epoch 19/50\n",
      "124/124 [==============================] - 9s 70ms/sample - loss: 0.1022 - acc: 0.9758 - val_loss: 0.1904 - val_acc: 0.9524\n",
      "Epoch 20/50\n",
      "124/124 [==============================] - 7s 60ms/sample - loss: 0.0986 - acc: 0.9758 - val_loss: 0.1880 - val_acc: 0.9524\n",
      "Epoch 21/50\n",
      "124/124 [==============================] - 7s 60ms/sample - loss: 0.1075 - acc: 0.9677 - val_loss: 0.2320 - val_acc: 0.9286\n",
      "Epoch 22/50\n",
      "124/124 [==============================] - 7s 60ms/sample - loss: 0.1264 - acc: 0.9597 - val_loss: 0.2630 - val_acc: 0.9286\n",
      "Epoch 23/50\n",
      "124/124 [==============================] - 8s 61ms/sample - loss: 0.1154 - acc: 0.9758 - val_loss: 0.1868 - val_acc: 0.9524\n",
      "Epoch 24/50\n",
      "124/124 [==============================] - 8s 65ms/sample - loss: 0.1467 - acc: 0.9516 - val_loss: 0.2750 - val_acc: 0.9048\n",
      "Epoch 25/50\n",
      "124/124 [==============================] - 8s 63ms/sample - loss: 0.1168 - acc: 0.9677 - val_loss: 0.2535 - val_acc: 0.9286\n",
      "Epoch 26/50\n",
      "124/124 [==============================] - 8s 66ms/sample - loss: 0.0988 - acc: 0.9758 - val_loss: 0.3129 - val_acc: 0.9048\n",
      "Epoch 27/50\n",
      "124/124 [==============================] - 8s 61ms/sample - loss: 0.1320 - acc: 0.9597 - val_loss: 0.1764 - val_acc: 0.9286\n",
      "Epoch 28/50\n",
      "124/124 [==============================] - 8s 66ms/sample - loss: 0.0908 - acc: 0.9758 - val_loss: 0.1572 - val_acc: 0.9524\n",
      "Epoch 29/50\n",
      "124/124 [==============================] - 8s 67ms/sample - loss: 0.0899 - acc: 0.9758 - val_loss: 0.1440 - val_acc: 0.9762\n",
      "Epoch 30/50\n",
      "124/124 [==============================] - 10s 83ms/sample - loss: 0.0979 - acc: 0.9758 - val_loss: 0.2071 - val_acc: 0.9524\n",
      "Epoch 31/50\n",
      "124/124 [==============================] - 8s 64ms/sample - loss: 0.0822 - acc: 0.9839 - val_loss: 0.2725 - val_acc: 0.9048\n",
      "Epoch 32/50\n",
      "124/124 [==============================] - 8s 66ms/sample - loss: 0.0959 - acc: 0.9758 - val_loss: 0.2645 - val_acc: 0.9286\n",
      "Epoch 33/50\n",
      "124/124 [==============================] - 8s 67ms/sample - loss: 0.1060 - acc: 0.9677 - val_loss: 0.1974 - val_acc: 0.9524\n",
      "Epoch 34/50\n",
      "124/124 [==============================] - 8s 68ms/sample - loss: 0.1201 - acc: 0.9758 - val_loss: 0.2064 - val_acc: 0.9286\n",
      "Epoch 35/50\n",
      "124/124 [==============================] - 8s 66ms/sample - loss: 0.0775 - acc: 0.9839 - val_loss: 0.2088 - val_acc: 0.9286\n",
      "Epoch 36/50\n",
      "124/124 [==============================] - 9s 71ms/sample - loss: 0.0758 - acc: 0.9839 - val_loss: 0.1869 - val_acc: 0.9524\n",
      "Epoch 37/50\n",
      "124/124 [==============================] - 10s 79ms/sample - loss: 0.0721 - acc: 0.9839 - val_loss: 0.1828 - val_acc: 0.9524\n",
      "Epoch 38/50\n",
      "124/124 [==============================] - 15s 121ms/sample - loss: 0.0864 - acc: 0.9758 - val_loss: 0.1917 - val_acc: 0.9524\n",
      "Epoch 39/50\n",
      "124/124 [==============================] - 8s 65ms/sample - loss: 0.0989 - acc: 0.9758 - val_loss: 0.1834 - val_acc: 0.9524\n",
      "Epoch 40/50\n",
      "124/124 [==============================] - 9s 72ms/sample - loss: 0.0730 - acc: 0.9839 - val_loss: 0.1828 - val_acc: 0.9524\n",
      "Epoch 41/50\n",
      "124/124 [==============================] - 8s 67ms/sample - loss: 0.0738 - acc: 0.9839 - val_loss: 0.1853 - val_acc: 0.9524\n",
      "Epoch 42/50\n",
      "124/124 [==============================] - 8s 68ms/sample - loss: 0.0715 - acc: 0.9839 - val_loss: 0.2048 - val_acc: 0.9286\n",
      "Epoch 43/50\n",
      "124/124 [==============================] - 8s 68ms/sample - loss: 0.0989 - acc: 0.9758 - val_loss: 0.2331 - val_acc: 0.9286\n",
      "Epoch 44/50\n",
      "124/124 [==============================] - 9s 75ms/sample - loss: 0.1078 - acc: 0.9677 - val_loss: 0.1873 - val_acc: 0.9524\n",
      "Epoch 45/50\n",
      "124/124 [==============================] - 12s 95ms/sample - loss: 0.0713 - acc: 0.9839 - val_loss: 0.2520 - val_acc: 0.9286\n",
      "Epoch 46/50\n",
      "124/124 [==============================] - 9s 76ms/sample - loss: 0.1039 - acc: 0.9758 - val_loss: 0.2540 - val_acc: 0.9286\n",
      "Epoch 47/50\n",
      "124/124 [==============================] - 8s 67ms/sample - loss: 0.0773 - acc: 0.9839 - val_loss: 0.2202 - val_acc: 0.9286\n",
      "Epoch 48/50\n",
      "124/124 [==============================] - 8s 68ms/sample - loss: 0.0758 - acc: 0.9839 - val_loss: 0.1943 - val_acc: 0.9286\n",
      "Epoch 49/50\n",
      "124/124 [==============================] - 9s 71ms/sample - loss: 0.0775 - acc: 0.9839 - val_loss: 0.1868 - val_acc: 0.9524\n",
      "Epoch 50/50\n",
      "124/124 [==============================] - 9s 69ms/sample - loss: 0.0710 - acc: 0.9839 - val_loss: 0.1864 - val_acc: 0.9524\n"
     ]
    },
    {
     "data": {
      "text/plain": [
       "<tensorflow.python.keras.callbacks.History at 0x7f248b6c6f98>"
      ]
     },
     "execution_count": 16,
     "metadata": {},
     "output_type": "execute_result"
    }
   ],
   "source": [
    "# se entrena el modelo en 90 epocas y batch size de 50\n",
    "#model.fit(X_train, Y_train, epochs = 90, batch_size = 50, validation_data = (X_test, Y_test))\n",
    "model.fit(X_train, Y_train, epochs = 50, batch_size = 50, validation_data = (X_test, Y_test))"
   ]
  },
  {
   "cell_type": "code",
   "execution_count": 17,
   "metadata": {
    "colab": {
     "base_uri": "https://localhost:8080/",
     "height": 52
    },
    "colab_type": "code",
    "executionInfo": {
     "elapsed": 1937244,
     "status": "ok",
     "timestamp": 1591848499896,
     "user": {
      "displayName": "JUAN MANUEL MENDOZA JACINTO",
      "photoUrl": "https://lh3.googleusercontent.com/a-/AOh14GjqzRmr_78w7iF9UHrl5RLxStJ54OAcp7xAkk7_52Y=s64",
      "userId": "08286022155372389049"
     },
     "user_tz": 300
    },
    "id": "cw453K4KQGGi",
    "outputId": "54ffee9f-327e-4bdd-9c10-35d69588b53e"
   },
   "outputs": [
    {
     "name": "stdout",
     "output_type": "stream",
     "text": [
      "42/42 [==============================] - 1s 20ms/sample - loss: 0.1864 - acc: 0.9524\n",
      "[0.18638435724590505, 0.95238096]\n"
     ]
    }
   ],
   "source": [
    "# se muestra el accuracy final obtenido\n",
    "predictions = model.predict(X_test)\n",
    "score = model.evaluate(X_test, Y_test)\n",
    "print(score)"
   ]
  },
  {
   "cell_type": "code",
   "execution_count": 18,
   "metadata": {
    "colab": {},
    "colab_type": "code",
    "id": "hGwzsf7HRIqP"
   },
   "outputs": [],
   "source": [
    "# Guardar el Modelo\n",
    "model.save('crnn.h5')"
   ]
  }
 ],
 "metadata": {
  "kernelspec": {
   "display_name": "Python 3",
   "language": "python",
   "name": "python3"
  },
  "language_info": {
   "codemirror_mode": {
    "name": "ipython",
    "version": 3
   },
   "file_extension": ".py",
   "mimetype": "text/x-python",
   "name": "python",
   "nbconvert_exporter": "python",
   "pygments_lexer": "ipython3",
   "version": "3.7.3"
  }
 },
 "nbformat": 4,
 "nbformat_minor": 2
}
